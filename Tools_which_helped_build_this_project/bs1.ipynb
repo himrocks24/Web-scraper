{
 "cells": [
  {
   "cell_type": "code",
   "execution_count": 5,
   "metadata": {},
   "outputs": [],
   "source": [
    "html_content = '''<!DOCTYPE html>\n",
    "<html>\n",
    "<head>\n",
    "\t<title>Testing Web Page</title>\n",
    "</head>\n",
    "<body>\n",
    "<h1>Web Scraping</h1>\n",
    "<p class = \"abc\">\n",
    "\tHello ! Good morning. Have a good Day !\n",
    "</p>\n",
    "\n",
    "<p id = \"def\" >\n",
    "\t<a href=\"https://www.youtube.com/\"> Youtube </a>\n",
    "</p>\n",
    "\n",
    "<p class = \"abc\">\n",
    "\thello\n",
    "</p>\n",
    "</body>\n",
    "</html>'''"
   ]
  },
  {
   "cell_type": "code",
   "execution_count": 6,
   "metadata": {},
   "outputs": [],
   "source": [
    "from bs4 import BeautifulSoup"
   ]
  },
  {
   "cell_type": "code",
   "execution_count": 8,
   "metadata": {},
   "outputs": [],
   "source": [
    "data = BeautifulSoup(html_content,\"html.parser\")"
   ]
  },
  {
   "cell_type": "code",
   "execution_count": 9,
   "metadata": {},
   "outputs": [
    {
     "data": {
      "text/plain": [
       "<!DOCTYPE html>\n",
       "\n",
       "<html>\n",
       "<head>\n",
       "<title>Testing Web Page</title>\n",
       "</head>\n",
       "<body>\n",
       "<h1>Web Scraping</h1>\n",
       "<p class=\"abc\">\n",
       "\tHello ! Good morning. Have a good Day !\n",
       "</p>\n",
       "<p id=\"def\">\n",
       "<a href=\"https://www.youtube.com/\"> Youtube </a>\n",
       "</p>\n",
       "<p class=\"abc\">\n",
       "\thello\n",
       "</p>\n",
       "</body>\n",
       "</html>"
      ]
     },
     "execution_count": 9,
     "metadata": {},
     "output_type": "execute_result"
    }
   ],
   "source": [
    "data"
   ]
  },
  {
   "cell_type": "code",
   "execution_count": 10,
   "metadata": {},
   "outputs": [
    {
     "data": {
      "text/plain": [
       "bs4.BeautifulSoup"
      ]
     },
     "execution_count": 10,
     "metadata": {},
     "output_type": "execute_result"
    }
   ],
   "source": [
    "type(data)"
   ]
  },
  {
   "cell_type": "code",
   "execution_count": 11,
   "metadata": {},
   "outputs": [
    {
     "name": "stdout",
     "output_type": "stream",
     "text": [
      "<!DOCTYPE html>\n",
      "\n",
      "<html>\n",
      "<head>\n",
      "<title>Testing Web Page</title>\n",
      "</head>\n",
      "<body>\n",
      "<h1>Web Scraping</h1>\n",
      "<p class=\"abc\">\n",
      "\tHello ! Good morning. Have a good Day !\n",
      "</p>\n",
      "<p id=\"def\">\n",
      "<a href=\"https://www.youtube.com/\"> Youtube </a>\n",
      "</p>\n",
      "<p class=\"abc\">\n",
      "\thello\n",
      "</p>\n",
      "</body>\n",
      "</html>\n"
     ]
    }
   ],
   "source": [
    "print(data)"
   ]
  },
  {
   "cell_type": "code",
   "execution_count": 43,
   "metadata": {},
   "outputs": [
    {
     "name": "stdout",
     "output_type": "stream",
     "text": [
      "<!DOCTYPE html>\n",
      "<html>\n",
      " <head>\n",
      "  <title>\n",
      "   Testing Web Page\n",
      "  </title>\n",
      " </head>\n",
      " <body>\n",
      "  <h1>\n",
      "   Web Scraping\n",
      "  </h1>\n",
      "  <p class=\"abc\">\n",
      "   Hello ! Good morning. Have a good Day !\n",
      "  </p>\n",
      "  <p id=\"def\">\n",
      "   <a href=\"https://www.youtube.com/\">\n",
      "    Youtube\n",
      "   </a>\n",
      "  </p>\n",
      "  <p class=\"abc\">\n",
      "   hello\n",
      "  </p>\n",
      " </body>\n",
      "</html>\n"
     ]
    }
   ],
   "source": [
    "print(data.prettify()) ## just a method to visualize the web page for the programmer"
   ]
  },
  {
   "cell_type": "markdown",
   "metadata": {},
   "source": [
    "## data.tagName => grabs the desired data associted with that particular tag"
   ]
  },
  {
   "cell_type": "code",
   "execution_count": 15,
   "metadata": {},
   "outputs": [
    {
     "data": {
      "text/plain": [
       "<html>\n",
       "<head>\n",
       "<title>Testing Web Page</title>\n",
       "</head>\n",
       "<body>\n",
       "<h1>Web Scraping</h1>\n",
       "<p class=\"abc\">\n",
       "\tHello ! Good morning. Have a good Day !\n",
       "</p>\n",
       "<p id=\"def\">\n",
       "<a href=\"https://www.youtube.com/\"> Youtube </a>\n",
       "</p>\n",
       "<p class=\"abc\">\n",
       "\thello\n",
       "</p>\n",
       "</body>\n",
       "</html>"
      ]
     },
     "execution_count": 15,
     "metadata": {},
     "output_type": "execute_result"
    }
   ],
   "source": [
    "data.html"
   ]
  },
  {
   "cell_type": "code",
   "execution_count": 16,
   "metadata": {},
   "outputs": [
    {
     "data": {
      "text/plain": [
       "<title>Testing Web Page</title>"
      ]
     },
     "execution_count": 16,
     "metadata": {},
     "output_type": "execute_result"
    }
   ],
   "source": [
    "data.title"
   ]
  },
  {
   "cell_type": "code",
   "execution_count": 17,
   "metadata": {},
   "outputs": [
    {
     "data": {
      "text/plain": [
       "<p class=\"abc\">\n",
       "\tHello ! Good morning. Have a good Day !\n",
       "</p>"
      ]
     },
     "execution_count": 17,
     "metadata": {},
     "output_type": "execute_result"
    }
   ],
   "source": [
    "data.p"
   ]
  },
  {
   "cell_type": "code",
   "execution_count": 18,
   "metadata": {},
   "outputs": [
    {
     "data": {
      "text/plain": [
       "<h1>Web Scraping</h1>"
      ]
     },
     "execution_count": 18,
     "metadata": {},
     "output_type": "execute_result"
    }
   ],
   "source": [
    "data.h1"
   ]
  },
  {
   "cell_type": "code",
   "execution_count": 20,
   "metadata": {},
   "outputs": [],
   "source": [
    "### a tag which is not available on my web page\n",
    "data.h2 ## we dont get anything which represents that the particular tag is not present"
   ]
  },
  {
   "cell_type": "markdown",
   "metadata": {},
   "source": [
    "# methods:-\n",
    "    1. pretifyy()\n",
    "    2. page.tag\n",
    "        a) page.tag.name\n",
    "        b) page.tag.string\n",
    "        c) page.tag.attrs\n",
    "            # using get() function\n",
    "            # access like a dictionary\n",
    "    3. get_text()"
   ]
  },
  {
   "cell_type": "code",
   "execution_count": 21,
   "metadata": {},
   "outputs": [
    {
     "data": {
      "text/plain": [
       "<title>Testing Web Page</title>"
      ]
     },
     "execution_count": 21,
     "metadata": {},
     "output_type": "execute_result"
    }
   ],
   "source": [
    "data.title"
   ]
  },
  {
   "cell_type": "code",
   "execution_count": 22,
   "metadata": {},
   "outputs": [
    {
     "name": "stdout",
     "output_type": "stream",
     "text": [
      "title\n"
     ]
    }
   ],
   "source": [
    "print(data.title.name)  ## to grab the name of the tag"
   ]
  },
  {
   "cell_type": "code",
   "execution_count": 26,
   "metadata": {},
   "outputs": [
    {
     "name": "stdout",
     "output_type": "stream",
     "text": [
      "Testing Web Page\n"
     ]
    }
   ],
   "source": [
    "print(data.title.string) ## to grab the string prsesnt inside that particular tag"
   ]
  },
  {
   "cell_type": "code",
   "execution_count": 27,
   "metadata": {},
   "outputs": [
    {
     "name": "stdout",
     "output_type": "stream",
     "text": [
      "{}\n"
     ]
    }
   ],
   "source": [
    "print(data.title.attrs) ##"
   ]
  },
  {
   "cell_type": "markdown",
   "metadata": {},
   "source": [
    "## page.tag.attrs =>  gets the attributes like class and id associated with that particular tag. \n",
    "## This data is stored in a dictionary"
   ]
  },
  {
   "cell_type": "code",
   "execution_count": 30,
   "metadata": {},
   "outputs": [
    {
     "data": {
      "text/plain": [
       "{'class': ['abc']}"
      ]
     },
     "execution_count": 30,
     "metadata": {},
     "output_type": "execute_result"
    }
   ],
   "source": [
    "data.p.attrs"
   ]
  },
  {
   "cell_type": "code",
   "execution_count": 31,
   "metadata": {},
   "outputs": [
    {
     "data": {
      "text/plain": [
       "dict"
      ]
     },
     "execution_count": 31,
     "metadata": {},
     "output_type": "execute_result"
    }
   ],
   "source": [
    "type(data.p.attrs)"
   ]
  },
  {
   "cell_type": "code",
   "execution_count": 32,
   "metadata": {},
   "outputs": [
    {
     "name": "stdout",
     "output_type": "stream",
     "text": [
      "['abc']\n"
     ]
    }
   ],
   "source": [
    "## to further get the value of an attribute\n",
    "## use dictionary indexing\n",
    "print(data.p['class'])"
   ]
  },
  {
   "cell_type": "code",
   "execution_count": 34,
   "metadata": {},
   "outputs": [
    {
     "data": {
      "text/plain": [
       "['abc']"
      ]
     },
     "execution_count": 34,
     "metadata": {},
     "output_type": "execute_result"
    }
   ],
   "source": [
    "## or same can be done by using get function\n",
    "data.p.get(\"class\")"
   ]
  },
  {
   "cell_type": "markdown",
   "metadata": {},
   "source": [
    "## get_text"
   ]
  },
  {
   "cell_type": "code",
   "execution_count": 35,
   "metadata": {},
   "outputs": [],
   "source": [
    "## To get all the text available on the web page without getting the tag names"
   ]
  },
  {
   "cell_type": "code",
   "execution_count": 36,
   "metadata": {},
   "outputs": [
    {
     "data": {
      "text/plain": [
       "'\\n\\n\\nTesting Web Page\\n\\n\\nWeb Scraping\\n\\n\\tHello ! Good morning. Have a good Day !\\n\\n\\n Youtube \\n\\n\\n\\thello\\n\\n\\n'"
      ]
     },
     "execution_count": 36,
     "metadata": {},
     "output_type": "execute_result"
    }
   ],
   "source": [
    "data.get_text()"
   ]
  },
  {
   "cell_type": "code",
   "execution_count": 37,
   "metadata": {},
   "outputs": [
    {
     "name": "stdout",
     "output_type": "stream",
     "text": [
      "\n",
      "\n",
      "\n",
      "Testing Web Page\n",
      "\n",
      "\n",
      "Web Scraping\n",
      "\n",
      "\tHello ! Good morning. Have a good Day !\n",
      "\n",
      "\n",
      " Youtube \n",
      "\n",
      "\n",
      "\thello\n",
      "\n",
      "\n",
      "\n"
     ]
    }
   ],
   "source": [
    "print(data.get_text())"
   ]
  },
  {
   "cell_type": "code",
   "execution_count": 38,
   "metadata": {},
   "outputs": [],
   "source": [
    "### if we write data.p => we get only 1st occurence of p tag i.e the first occurance\n",
    "## so we data.findall() with which we can get all the occurences of that particular tag stored in a list"
   ]
  },
  {
   "cell_type": "code",
   "execution_count": 39,
   "metadata": {},
   "outputs": [
    {
     "data": {
      "text/plain": [
       "[<p class=\"abc\">\n",
       " \tHello ! Good morning. Have a good Day !\n",
       " </p>,\n",
       " <p id=\"def\">\n",
       " <a href=\"https://www.youtube.com/\"> Youtube </a>\n",
       " </p>,\n",
       " <p class=\"abc\">\n",
       " \thello\n",
       " </p>]"
      ]
     },
     "execution_count": 39,
     "metadata": {},
     "output_type": "execute_result"
    }
   ],
   "source": [
    "data.find_all(\"p\")"
   ]
  },
  {
   "cell_type": "code",
   "execution_count": 42,
   "metadata": {},
   "outputs": [
    {
     "name": "stdout",
     "output_type": "stream",
     "text": [
      "<p class=\"abc\">\n",
      "\tHello ! Good morning. Have a good Day !\n",
      "</p>\n",
      "<p id=\"def\">\n",
      "<a href=\"https://www.youtube.com/\"> Youtube </a>\n",
      "</p>\n",
      "<p class=\"abc\">\n",
      "\thello\n",
      "</p>\n"
     ]
    }
   ],
   "source": [
    "for i in data.find_all(\"p\"):  ##  we can also iterate over this list to do desired computations\n",
    "    print(i)"
   ]
  },
  {
   "cell_type": "markdown",
   "metadata": {},
   "source": [
    "## TASK1 :You are given the HTML content of a webpage, your task is to :\n",
    "    Print all the contents of the body tag(including body tag)\n",
    "    NOTE : You are provided the HTML content inside variable html\n",
    "    Output Format :\n",
    "    <body>..........</body>"
   ]
  },
  {
   "cell_type": "code",
   "execution_count": 52,
   "metadata": {},
   "outputs": [],
   "source": [
    "## HTML Code is provided in variable html\n",
    "\n",
    "html = '<!DOCTYPE html><html><head><title>Learning Beautiful Soup</title></head>\\\n",
    "<body><h1> About Us </h1><div class = \"first_div\"><p>Codeforces Website</p>\\\n",
    "<a href=\"http://codeforces.com/\">Link to Codeforces Website</a>\\\n",
    "<ul><li>This</li><li>is</li><li>an</li><li>unordered</li><li>list.</li></ul>\\\n",
    "</div><p id = \"template_p\">This is a template paragraph tag</p>\\\n",
    "<a href = \"https://www.facebook.com/codeforces/\">\\\n",
    "This is the link of our Facebook Page</a></body></html>'\n",
    "\n",
    "## Print the required output in given format"
   ]
  },
  {
   "cell_type": "code",
   "execution_count": 54,
   "metadata": {},
   "outputs": [
    {
     "name": "stdout",
     "output_type": "stream",
     "text": [
      "<!DOCTYPE html>\n",
      "<html>\n",
      " <head>\n",
      "  <title>\n",
      "   Learning Beautiful Soup\n",
      "  </title>\n",
      " </head>\n",
      " <body>\n",
      "  <h1>\n",
      "   About Us\n",
      "  </h1>\n",
      "  <div class=\"first_div\">\n",
      "   <p>\n",
      "    Codeforces Website\n",
      "   </p>\n",
      "   <a href=\"http://codeforces.com/\">\n",
      "    Link to Codeforces Website\n",
      "   </a>\n",
      "   <ul>\n",
      "    <li>\n",
      "     This\n",
      "    </li>\n",
      "    <li>\n",
      "     is\n",
      "    </li>\n",
      "    <li>\n",
      "     an\n",
      "    </li>\n",
      "    <li>\n",
      "     unordered\n",
      "    </li>\n",
      "    <li>\n",
      "     list.\n",
      "    </li>\n",
      "   </ul>\n",
      "  </div>\n",
      "  <p id=\"template_p\">\n",
      "   This is a template paragraph tag\n",
      "  </p>\n",
      "  <a href=\"https://www.facebook.com/codeforces/\">\n",
      "   This is the link of our Facebook Page\n",
      "  </a>\n",
      " </body>\n",
      "</html>\n"
     ]
    }
   ],
   "source": [
    "## first parsing\n",
    "data_task1 = BeautifulSoup(html,\"html.parser\")\n",
    "print(data_task1.prettify())"
   ]
  },
  {
   "cell_type": "code",
   "execution_count": 55,
   "metadata": {},
   "outputs": [
    {
     "name": "stdout",
     "output_type": "stream",
     "text": [
      "<body><h1> About Us </h1><div class=\"first_div\"><p>Codeforces Website</p><a href=\"http://codeforces.com/\">Link to Codeforces Website</a><ul><li>This</li><li>is</li><li>an</li><li>unordered</li><li>list.</li></ul></div><p id=\"template_p\">This is a template paragraph tag</p><a href=\"https://www.facebook.com/codeforces/\">This is the link of our Facebook Page</a></body>\n"
     ]
    }
   ],
   "source": [
    "print(data_task1.body)"
   ]
  },
  {
   "cell_type": "markdown",
   "metadata": {},
   "source": [
    "## Task 2 :You are given the HTML content of a webpage, your task is to :\n",
    "    Print the name of all attributes of first div tag of the page\n",
    "    NOTE : You are provided the HTML content inside variable html\n",
    "    Output Format :\n",
    "    attribute_1\n",
    "    attribute_2"
   ]
  },
  {
   "cell_type": "code",
   "execution_count": 51,
   "metadata": {},
   "outputs": [
    {
     "name": "stdout",
     "output_type": "stream",
     "text": [
      "class\n"
     ]
    }
   ],
   "source": [
    "for i in data_task1.div.attrs:\n",
    "    print(i)"
   ]
  },
  {
   "cell_type": "markdown",
   "metadata": {},
   "source": [
    "## TASK 3: You are given the HTML content of a webpage, your task is to :\n",
    "    Print the strings(only text without tag names) of all li tags separated by a space\n",
    "    NOTE : You are provided the HTML content inside variable html\n",
    "    Output Format :\n",
    "    li_text1 li_text2 li_text3 ..."
   ]
  },
  {
   "cell_type": "code",
   "execution_count": 63,
   "metadata": {},
   "outputs": [
    {
     "name": "stdout",
     "output_type": "stream",
     "text": [
      "This is an unordered list. "
     ]
    }
   ],
   "source": [
    "for i in data_task1.find_all(\"li\"):\n",
    "    print(i.get_text(),end=\" \")"
   ]
  },
  {
   "cell_type": "markdown",
   "metadata": {},
   "source": [
    "## Task 4 : You are given the HTML content of a webpage, your task is to :\n",
    "    Print the href of all the <a> tags on the page in different lines\n",
    "    NOTE : You are provided the HTML content inside variable html\n",
    "    Output Format :\n",
    "    a1_href\n",
    "    a2_href\n",
    "    a3_href\n",
    "    .\n",
    "    ."
   ]
  },
  {
   "cell_type": "code",
   "execution_count": 75,
   "metadata": {},
   "outputs": [
    {
     "name": "stdout",
     "output_type": "stream",
     "text": [
      "http://codeforces.com/\n",
      "https://www.facebook.com/codeforces/\n"
     ]
    }
   ],
   "source": [
    "for i in data_task1.find_all(\"a\"):\n",
    "    print(i.get(\"href\"))"
   ]
  }
 ],
 "metadata": {
  "kernelspec": {
   "display_name": "Python 3",
   "language": "python",
   "name": "python3"
  },
  "language_info": {
   "codemirror_mode": {
    "name": "ipython",
    "version": 3
   },
   "file_extension": ".py",
   "mimetype": "text/x-python",
   "name": "python",
   "nbconvert_exporter": "python",
   "pygments_lexer": "ipython3",
   "version": "3.8.3"
  }
 },
 "nbformat": 4,
 "nbformat_minor": 4
}
