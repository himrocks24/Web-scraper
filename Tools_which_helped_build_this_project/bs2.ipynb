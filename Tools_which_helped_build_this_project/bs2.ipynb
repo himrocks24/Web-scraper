{
 "cells": [
  {
   "cell_type": "markdown",
   "metadata": {},
   "source": [
    "# NAVIGATING PARSE TREE"
   ]
  },
  {
   "cell_type": "markdown",
   "metadata": {},
   "source": [
    "### 1 . Searching Parse tree -we can simply search for the desired content in the parse tree\n",
    "   ####  a) find() - returns 1st occurence of a particular tag\n",
    "   ####  b) find_all() - returns all the occurences of that tag in a list \n",
    "   ####  IN find_all() we can pass a string, a list , a boolean, id, class_\n",
    "   \n"
   ]
  },
  {
   "cell_type": "code",
   "execution_count": 2,
   "metadata": {},
   "outputs": [],
   "source": [
    "html_code = '''<!DOCTYPE html>\n",
    "<html>\n",
    "<head>\n",
    "\t<title>Testing Web Page</title>\n",
    "</head>\n",
    "<body>\n",
    "<h1>Web Scraping</h1>\n",
    "<p class = \"abc\">\n",
    "\tHello ! Good morning. Have a good Day !\n",
    "</p>\n",
    "\n",
    "<p id = \"def\" >\n",
    "\t<a href=\"https://www.youtube.com/\"> Youtube </a>\n",
    "</p>\n",
    "\n",
    "<p class = \"abc\">\n",
    "\thello\n",
    "</p>\n",
    "</body>\n",
    "</html>'''"
   ]
  },
  {
   "cell_type": "code",
   "execution_count": 3,
   "metadata": {},
   "outputs": [],
   "source": [
    "from bs4 import BeautifulSoup\n",
    "data = BeautifulSoup(html_code, \"html.parser\")"
   ]
  },
  {
   "cell_type": "code",
   "execution_count": null,
   "metadata": {},
   "outputs": [],
   "source": []
  },
  {
   "cell_type": "code",
   "execution_count": 4,
   "metadata": {},
   "outputs": [
    {
     "data": {
      "text/plain": [
       "<p class=\"abc\">\n",
       "\tHello ! Good morning. Have a good Day !\n",
       "</p>"
      ]
     },
     "execution_count": 4,
     "metadata": {},
     "output_type": "execute_result"
    }
   ],
   "source": [
    "data.find(\"p\")"
   ]
  },
  {
   "cell_type": "code",
   "execution_count": 5,
   "metadata": {},
   "outputs": [
    {
     "data": {
      "text/plain": [
       "[<p class=\"abc\">\n",
       " \tHello ! Good morning. Have a good Day !\n",
       " </p>,\n",
       " <p id=\"def\">\n",
       " <a href=\"https://www.youtube.com/\"> Youtube </a>\n",
       " </p>,\n",
       " <a href=\"https://www.youtube.com/\"> Youtube </a>,\n",
       " <p class=\"abc\">\n",
       " \thello\n",
       " </p>]"
      ]
     },
     "execution_count": 5,
     "metadata": {},
     "output_type": "execute_result"
    }
   ],
   "source": [
    "data.find_all([\"a\",\"p\"]) ## we can also pass a lsit of tags that we want ot grab\n",
    "## it will return a list of all the occurences of those tags "
   ]
  },
  {
   "cell_type": "code",
   "execution_count": 6,
   "metadata": {},
   "outputs": [
    {
     "data": {
      "text/plain": [
       "4"
      ]
     },
     "execution_count": 6,
     "metadata": {},
     "output_type": "execute_result"
    }
   ],
   "source": [
    "### to see no of \"a\" and \"p\" tags\n",
    "len(data.find_all([\"a\",\"p\"]))   ## => 1-\"a\" , 3-\"p\""
   ]
  },
  {
   "cell_type": "code",
   "execution_count": 7,
   "metadata": {},
   "outputs": [
    {
     "data": {
      "text/plain": [
       "[<html>\n",
       " <head>\n",
       " <title>Testing Web Page</title>\n",
       " </head>\n",
       " <body>\n",
       " <h1>Web Scraping</h1>\n",
       " <p class=\"abc\">\n",
       " \tHello ! Good morning. Have a good Day !\n",
       " </p>\n",
       " <p id=\"def\">\n",
       " <a href=\"https://www.youtube.com/\"> Youtube </a>\n",
       " </p>\n",
       " <p class=\"abc\">\n",
       " \thello\n",
       " </p>\n",
       " </body>\n",
       " </html>,\n",
       " <head>\n",
       " <title>Testing Web Page</title>\n",
       " </head>,\n",
       " <title>Testing Web Page</title>,\n",
       " <body>\n",
       " <h1>Web Scraping</h1>\n",
       " <p class=\"abc\">\n",
       " \tHello ! Good morning. Have a good Day !\n",
       " </p>\n",
       " <p id=\"def\">\n",
       " <a href=\"https://www.youtube.com/\"> Youtube </a>\n",
       " </p>\n",
       " <p class=\"abc\">\n",
       " \thello\n",
       " </p>\n",
       " </body>,\n",
       " <h1>Web Scraping</h1>,\n",
       " <p class=\"abc\">\n",
       " \tHello ! Good morning. Have a good Day !\n",
       " </p>,\n",
       " <p id=\"def\">\n",
       " <a href=\"https://www.youtube.com/\"> Youtube </a>\n",
       " </p>,\n",
       " <a href=\"https://www.youtube.com/\"> Youtube </a>,\n",
       " <p class=\"abc\">\n",
       " \thello\n",
       " </p>]"
      ]
     },
     "execution_count": 7,
     "metadata": {},
     "output_type": "execute_result"
    }
   ],
   "source": [
    "## passing a boolean\n",
    "data.find_all(True)"
   ]
  },
  {
   "cell_type": "code",
   "execution_count": 8,
   "metadata": {},
   "outputs": [
    {
     "data": {
      "text/plain": [
       "[<html>\n",
       " <head>\n",
       " <title>Testing Web Page</title>\n",
       " </head>\n",
       " <body>\n",
       " <h1>Web Scraping</h1>\n",
       " <p class=\"abc\">\n",
       " \tHello ! Good morning. Have a good Day !\n",
       " </p>\n",
       " <p id=\"def\">\n",
       " <a href=\"https://www.youtube.com/\"> Youtube </a>\n",
       " </p>\n",
       " <p class=\"abc\">\n",
       " \thello\n",
       " </p>\n",
       " </body>\n",
       " </html>,\n",
       " <head>\n",
       " <title>Testing Web Page</title>\n",
       " </head>,\n",
       " <title>Testing Web Page</title>,\n",
       " <body>\n",
       " <h1>Web Scraping</h1>\n",
       " <p class=\"abc\">\n",
       " \tHello ! Good morning. Have a good Day !\n",
       " </p>\n",
       " <p id=\"def\">\n",
       " <a href=\"https://www.youtube.com/\"> Youtube </a>\n",
       " </p>\n",
       " <p class=\"abc\">\n",
       " \thello\n",
       " </p>\n",
       " </body>,\n",
       " <h1>Web Scraping</h1>,\n",
       " <p class=\"abc\">\n",
       " \tHello ! Good morning. Have a good Day !\n",
       " </p>,\n",
       " <p id=\"def\">\n",
       " <a href=\"https://www.youtube.com/\"> Youtube </a>\n",
       " </p>,\n",
       " <a href=\"https://www.youtube.com/\"> Youtube </a>,\n",
       " <p class=\"abc\">\n",
       " \thello\n",
       " </p>]"
      ]
     },
     "execution_count": 8,
     "metadata": {},
     "output_type": "execute_result"
    }
   ],
   "source": [
    "data.find_all(False)"
   ]
  },
  {
   "cell_type": "code",
   "execution_count": 9,
   "metadata": {},
   "outputs": [
    {
     "data": {
      "text/plain": [
       "[<p class=\"abc\">\n",
       " \tHello ! Good morning. Have a good Day !\n",
       " </p>,\n",
       " <p class=\"abc\">\n",
       " \thello\n",
       " </p>]"
      ]
     },
     "execution_count": 9,
     "metadata": {},
     "output_type": "execute_result"
    }
   ],
   "source": [
    "## Passing class - it will grab those tags with the class passed\n",
    "data.find_all(class_ = \"abc\")\n",
    "### It outputs 2 tags which has class = \"abc\" and stores it in a list"
   ]
  },
  {
   "cell_type": "code",
   "execution_count": 10,
   "metadata": {},
   "outputs": [
    {
     "data": {
      "text/plain": [
       "[<p id=\"def\">\n",
       " <a href=\"https://www.youtube.com/\"> Youtube </a>\n",
       " </p>]"
      ]
     },
     "execution_count": 10,
     "metadata": {},
     "output_type": "execute_result"
    }
   ],
   "source": [
    "## passing id\n",
    "data.find_all(id= \"def\")"
   ]
  },
  {
   "cell_type": "code",
   "execution_count": 11,
   "metadata": {},
   "outputs": [
    {
     "data": {
      "text/plain": [
       "[]"
      ]
     },
     "execution_count": 11,
     "metadata": {},
     "output_type": "execute_result"
    }
   ],
   "source": [
    "data.find_all(id=\"abc\")"
   ]
  },
  {
   "cell_type": "code",
   "execution_count": 12,
   "metadata": {},
   "outputs": [],
   "source": [
    "## find_all() will return an empty list if the passed parameter is not found in the parsed string"
   ]
  },
  {
   "cell_type": "markdown",
   "metadata": {},
   "source": [
    "### 2 . Going up - in the html code\n",
    "### 3 . Going down - in the html code\n",
    "### 4 . Going sideways - in the html code\n",
    "### 5 . Going back and forth - in the html code"
   ]
  },
  {
   "cell_type": "markdown",
   "metadata": {},
   "source": [
    "# 3 . Going down - in the html code\n",
    "    = We can use nested tag names eg: data.head.title\n",
    "    = .string => to fetch the string in the desired tag excluding the strings of their children\n",
    "    = .strings => to fetch the string in the desired tag including the strings of their children\n",
    "    = .striped_strings => \n",
    "    = .contents\n",
    "    = .children\n",
    "    = .descendants"
   ]
  },
  {
   "cell_type": "code",
   "execution_count": 13,
   "metadata": {},
   "outputs": [
    {
     "data": {
      "text/plain": [
       "<head>\n",
       "<title>Testing Web Page</title>\n",
       "</head>"
      ]
     },
     "execution_count": 13,
     "metadata": {},
     "output_type": "execute_result"
    }
   ],
   "source": [
    "data.head"
   ]
  },
  {
   "cell_type": "code",
   "execution_count": 14,
   "metadata": {},
   "outputs": [
    {
     "data": {
      "text/plain": [
       "<title>Testing Web Page</title>"
      ]
     },
     "execution_count": 14,
     "metadata": {},
     "output_type": "execute_result"
    }
   ],
   "source": [
    "data.head.title"
   ]
  },
  {
   "cell_type": "code",
   "execution_count": 15,
   "metadata": {},
   "outputs": [
    {
     "data": {
      "text/plain": [
       "<title>Testing Web Page</title>"
      ]
     },
     "execution_count": 15,
     "metadata": {},
     "output_type": "execute_result"
    }
   ],
   "source": [
    "data.title"
   ]
  },
  {
   "cell_type": "code",
   "execution_count": 16,
   "metadata": {},
   "outputs": [],
   "source": [
    "## Difference bw data.title and data.head.title ie. \n",
    "        ## when we write data.title ,what is the need of writing data.head.title\n",
    "# => Both gives the save output\n",
    "# => but if we have structure like this <h1> <p> adsafasfasfafaf </p> </h1>\n",
    "                            #       <h2> <p> opjpoijpojopjpo </p> </h2>\n",
    "    ### if i want to find deatalis of p tag of h2\n",
    "    ### then if we do data.p => it will fetch the first occurence\n",
    "    ## there fore it is a good practice to write data.h2.p"
   ]
  },
  {
   "cell_type": "code",
   "execution_count": 17,
   "metadata": {},
   "outputs": [
    {
     "data": {
      "text/plain": [
       "'Testing Web Page'"
      ]
     },
     "execution_count": 17,
     "metadata": {},
     "output_type": "execute_result"
    }
   ],
   "source": [
    "data.title.string"
   ]
  },
  {
   "cell_type": "code",
   "execution_count": 18,
   "metadata": {},
   "outputs": [
    {
     "name": "stdout",
     "output_type": "stream",
     "text": [
      "\n",
      "\tHello ! Good morning. Have a good Day !\n",
      "\n",
      "None\n",
      "\n",
      "\thello\n",
      "\n"
     ]
    }
   ],
   "source": [
    "for i in data.find_all(\"p\"):\n",
    "    print(i.string)"
   ]
  },
  {
   "cell_type": "code",
   "execution_count": 19,
   "metadata": {},
   "outputs": [],
   "source": [
    "# .string will give us the string upto only one child \n",
    "## i.e why we got none in the second <p> tag"
   ]
  },
  {
   "cell_type": "code",
   "execution_count": 20,
   "metadata": {},
   "outputs": [
    {
     "name": "stdout",
     "output_type": "stream",
     "text": [
      "<generator object Tag._all_strings at 0x7fc624406b30>\n",
      "<generator object Tag._all_strings at 0x7fc624406b30>\n",
      "<generator object Tag._all_strings at 0x7fc624406b30>\n"
     ]
    }
   ],
   "source": [
    "# TO FETCH string data of tags with multiple children\n",
    "# we use .strings\n",
    "for i in data.find_all(\"p\"):\n",
    "    print(i.strings)"
   ]
  },
  {
   "cell_type": "code",
   "execution_count": 21,
   "metadata": {},
   "outputs": [
    {
     "name": "stdout",
     "output_type": "stream",
     "text": [
      "['\\n\\tHello ! Good morning. Have a good Day !\\n']\n",
      "['\\n', ' Youtube ', '\\n']\n",
      "['\\n\\thello\\n']\n"
     ]
    }
   ],
   "source": [
    "## we are geting some generator object \n",
    "# so we can either iterate over this generator or \n",
    "## we can covert it into a list\n",
    "for i in data.find_all(\"p\"):\n",
    "    print(list(i.strings))\n"
   ]
  },
  {
   "cell_type": "code",
   "execution_count": 22,
   "metadata": {},
   "outputs": [
    {
     "name": "stdout",
     "output_type": "stream",
     "text": [
      "['Hello ! Good morning. Have a good Day !']\n",
      "['Youtube']\n",
      "['hello']\n"
     ]
    }
   ],
   "source": [
    "## now to remove /n /t and extra spaces we use stripped_strings\n",
    "## It also reeturns a generator object\n",
    "for i in data.find_all(\"p\"):\n",
    "    print(list(i.stripped_strings))"
   ]
  },
  {
   "cell_type": "code",
   "execution_count": 23,
   "metadata": {},
   "outputs": [
    {
     "data": {
      "text/plain": [
       "<list_iterator at 0x7fc60d94db20>"
      ]
     },
     "execution_count": 23,
     "metadata": {},
     "output_type": "execute_result"
    }
   ],
   "source": [
    "## use of .children\n",
    "## to know the child tags of the tag which we are passing\n",
    "data.body.children"
   ]
  },
  {
   "cell_type": "code",
   "execution_count": 24,
   "metadata": {},
   "outputs": [
    {
     "data": {
      "text/plain": [
       "['\\n',\n",
       " <h1>Web Scraping</h1>,\n",
       " '\\n',\n",
       " <p class=\"abc\">\n",
       " \tHello ! Good morning. Have a good Day !\n",
       " </p>,\n",
       " '\\n',\n",
       " <p id=\"def\">\n",
       " <a href=\"https://www.youtube.com/\"> Youtube </a>\n",
       " </p>,\n",
       " '\\n',\n",
       " <p class=\"abc\">\n",
       " \thello\n",
       " </p>,\n",
       " '\\n']"
      ]
     },
     "execution_count": 24,
     "metadata": {},
     "output_type": "execute_result"
    }
   ],
   "source": [
    "## it returns an iterator\n",
    "list(data.body.children)"
   ]
  },
  {
   "cell_type": "code",
   "execution_count": 25,
   "metadata": {},
   "outputs": [
    {
     "name": "stdout",
     "output_type": "stream",
     "text": [
      "\n",
      "\n",
      "<h1>Web Scraping</h1>\n",
      "\n",
      "\n",
      "<p class=\"abc\">\n",
      "\tHello ! Good morning. Have a good Day !\n",
      "</p>\n",
      "\n",
      "\n",
      "<p id=\"def\">\n",
      "<a href=\"https://www.youtube.com/\"> Youtube </a>\n",
      "</p>\n",
      "\n",
      "\n",
      "<p class=\"abc\">\n",
      "\thello\n",
      "</p>\n",
      "\n",
      "\n"
     ]
    }
   ],
   "source": [
    "## or we can use for loop\n",
    "for i in data.body.children:\n",
    "    print(i)"
   ]
  },
  {
   "cell_type": "code",
   "execution_count": 26,
   "metadata": {},
   "outputs": [
    {
     "data": {
      "text/plain": [
       "['\\n',\n",
       " <h1>Web Scraping</h1>,\n",
       " '\\n',\n",
       " <p class=\"abc\">\n",
       " \tHello ! Good morning. Have a good Day !\n",
       " </p>,\n",
       " '\\n',\n",
       " <p id=\"def\">\n",
       " <a href=\"https://www.youtube.com/\"> Youtube </a>\n",
       " </p>,\n",
       " '\\n',\n",
       " <p class=\"abc\">\n",
       " \thello\n",
       " </p>,\n",
       " '\\n']"
      ]
     },
     "execution_count": 26,
     "metadata": {},
     "output_type": "execute_result"
    }
   ],
   "source": [
    "## use of .contents\n",
    "data.body.contents\n",
    "## it does the same work like .children but it returns the result in a list"
   ]
  },
  {
   "cell_type": "code",
   "execution_count": 27,
   "metadata": {},
   "outputs": [
    {
     "data": {
      "text/plain": [
       "5"
      ]
     },
     "execution_count": 27,
     "metadata": {},
     "output_type": "execute_result"
    }
   ],
   "source": [
    "len(data.html.contents) ## no of childrens it has"
   ]
  },
  {
   "cell_type": "code",
   "execution_count": 28,
   "metadata": {},
   "outputs": [
    {
     "data": {
      "text/plain": [
       "['\\n',\n",
       " <head>\n",
       " <title>Testing Web Page</title>\n",
       " </head>,\n",
       " '\\n',\n",
       " <body>\n",
       " <h1>Web Scraping</h1>\n",
       " <p class=\"abc\">\n",
       " \tHello ! Good morning. Have a good Day !\n",
       " </p>\n",
       " <p id=\"def\">\n",
       " <a href=\"https://www.youtube.com/\"> Youtube </a>\n",
       " </p>\n",
       " <p class=\"abc\">\n",
       " \thello\n",
       " </p>\n",
       " </body>,\n",
       " '\\n']"
      ]
     },
     "execution_count": 28,
     "metadata": {},
     "output_type": "execute_result"
    }
   ],
   "source": [
    "data.html.contents ## we are getting 3 /n's so, 5-3=2 is the no. of children html tag have i.e body and head"
   ]
  },
  {
   "cell_type": "code",
   "execution_count": 29,
   "metadata": {},
   "outputs": [
    {
     "data": {
      "text/plain": [
       "<generator object Tag.descendants at 0x7fc60d947d60>"
      ]
     },
     "execution_count": 29,
     "metadata": {},
     "output_type": "execute_result"
    }
   ],
   "source": [
    "## use of .descendants\n",
    "data.html.descendants  ## it returns a generator"
   ]
  },
  {
   "cell_type": "code",
   "execution_count": 30,
   "metadata": {},
   "outputs": [],
   "source": [
    "## it returns each and every children and tags and strings"
   ]
  },
  {
   "cell_type": "code",
   "execution_count": 31,
   "metadata": {},
   "outputs": [
    {
     "data": {
      "text/plain": [
       "[<title>Testing Web Page</title>, 'Testing Web Page']"
      ]
     },
     "execution_count": 31,
     "metadata": {},
     "output_type": "execute_result"
    }
   ],
   "source": [
    "c = list(data.head.descendants)\n",
    "for i in c:\n",
    "    if i==\"\\n\":\n",
    "        c.remove(i)\n",
    "c                   ## to remove the spaces and \\n and \\t"
   ]
  },
  {
   "cell_type": "markdown",
   "metadata": {},
   "source": [
    "# 2 . Going up - in the html code\n",
    "    = .parent => gives only one parent (one above)\n",
    "    = .parents => gives all the parents of that tag"
   ]
  },
  {
   "cell_type": "code",
   "execution_count": 32,
   "metadata": {},
   "outputs": [],
   "source": [
    "html_doc = \"\"\"<html><head><title>The Dormouse's story</title></head>\n",
    "<body>\n",
    "<p class=\"title\"><b>The Dormouse's story</b></p>\n",
    "\n",
    "<p class=\"story\">Once upon a time there were three little sisters; and their names were\n",
    "<a href=\"http://example.com/elsie\" class=\"sister\" id=\"link1\">Elsie</a>,\n",
    "<a href=\"http://example.com/lacie\" class=\"sister\" id=\"link2\">Lacie</a> and\n",
    "<a href=\"http://example.com/tillie\" class=\"sister\" id=\"link3\">Tillie</a>;\n",
    "and they lived at the bottom of a well.</p>\n",
    "\n",
    "<p class=\"story\">...</p>\n",
    "\"\"\""
   ]
  },
  {
   "cell_type": "code",
   "execution_count": 33,
   "metadata": {},
   "outputs": [],
   "source": [
    "data_new = BeautifulSoup(html_doc)"
   ]
  },
  {
   "cell_type": "code",
   "execution_count": 34,
   "metadata": {},
   "outputs": [
    {
     "data": {
      "text/plain": [
       "<head><title>The Dormouse's story</title></head>"
      ]
     },
     "execution_count": 34,
     "metadata": {},
     "output_type": "execute_result"
    }
   ],
   "source": [
    "# You can access an element’s parent with the .parent attribute. In the example “three sisters” document, the <head> tag is\n",
    "# the parent of the <title> tag:\n",
    "par = data_new.title.parent\n",
    "par"
   ]
  },
  {
   "cell_type": "code",
   "execution_count": 35,
   "metadata": {},
   "outputs": [
    {
     "data": {
      "text/plain": [
       "[<head><title>The Dormouse's story</title></head>,\n",
       " <html><head><title>The Dormouse's story</title></head>\n",
       " <body>\n",
       " <p class=\"title\"><b>The Dormouse's story</b></p>\n",
       " <p class=\"story\">Once upon a time there were three little sisters; and their names were\n",
       " <a class=\"sister\" href=\"http://example.com/elsie\" id=\"link1\">Elsie</a>,\n",
       " <a class=\"sister\" href=\"http://example.com/lacie\" id=\"link2\">Lacie</a> and\n",
       " <a class=\"sister\" href=\"http://example.com/tillie\" id=\"link3\">Tillie</a>;\n",
       " and they lived at the bottom of a well.</p>\n",
       " <p class=\"story\">...</p>\n",
       " </body></html>,\n",
       " <html><head><title>The Dormouse's story</title></head>\n",
       " <body>\n",
       " <p class=\"title\"><b>The Dormouse's story</b></p>\n",
       " <p class=\"story\">Once upon a time there were three little sisters; and their names were\n",
       " <a class=\"sister\" href=\"http://example.com/elsie\" id=\"link1\">Elsie</a>,\n",
       " <a class=\"sister\" href=\"http://example.com/lacie\" id=\"link2\">Lacie</a> and\n",
       " <a class=\"sister\" href=\"http://example.com/tillie\" id=\"link3\">Tillie</a>;\n",
       " and they lived at the bottom of a well.</p>\n",
       " <p class=\"story\">...</p>\n",
       " </body></html>]"
      ]
     },
     "execution_count": 35,
     "metadata": {},
     "output_type": "execute_result"
    }
   ],
   "source": [
    "# .parents return a generator\n",
    "list(data_new.title.parents)"
   ]
  },
  {
   "cell_type": "markdown",
   "metadata": {},
   "source": [
    "# 4. Going Sideways"
   ]
  },
  {
   "cell_type": "code",
   "execution_count": 36,
   "metadata": {},
   "outputs": [
    {
     "name": "stdout",
     "output_type": "stream",
     "text": [
      "<a>\n",
      " <b>\n",
      "  text1\n",
      " </b>\n",
      " <c>\n",
      "  text2\n",
      " </c>\n",
      "</a>\n"
     ]
    }
   ],
   "source": [
    "data_sideways = BeautifulSoup(\"<a><b>text1</b><c>text2</c></b></a>\", 'html.parser')\n",
    "print(data_sideways.prettify())\n"
   ]
  },
  {
   "cell_type": "code",
   "execution_count": 37,
   "metadata": {},
   "outputs": [],
   "source": [
    "## The <b> tag and the <c> tag are at the same level: they’re both direct children of the same tag.\n",
    "## We call them siblings. When a document is pretty-printed, siblings show up at the same indentation level. \n",
    "## You can also use this relationship in the code you write."
   ]
  },
  {
   "cell_type": "code",
   "execution_count": 38,
   "metadata": {},
   "outputs": [
    {
     "name": "stdout",
     "output_type": "stream",
     "text": [
      "<c>text2</c>\n",
      "<b>text1</b>\n"
     ]
    }
   ],
   "source": [
    "## You can use .next_sibling and .previous_sibling to navigate between page elements that are on the same level\n",
    "##  of the parse tree:\n",
    "print(data_sideways.b.next_sibling)\n",
    "\n",
    "\n",
    "print(data_sideways.c.previous_sibling)"
   ]
  },
  {
   "cell_type": "code",
   "execution_count": 39,
   "metadata": {},
   "outputs": [],
   "source": [
    "# The <b> tag has a .next_sibling, but no .previous_sibling, because there’s nothing before the <b> tag on \n",
    "# the same level of the tree.\n",
    "# For the same reason, the <c> tag has a .previous_sibling but no .next_sibling:\n",
    "\n"
   ]
  },
  {
   "cell_type": "code",
   "execution_count": 40,
   "metadata": {},
   "outputs": [
    {
     "name": "stdout",
     "output_type": "stream",
     "text": [
      "None\n"
     ]
    }
   ],
   "source": [
    "## what if we do b.previous_sibling\n",
    "print(data_sideways.b.previous_sibling) ## we get None "
   ]
  },
  {
   "cell_type": "code",
   "execution_count": 41,
   "metadata": {},
   "outputs": [
    {
     "name": "stdout",
     "output_type": "stream",
     "text": [
      "None\n"
     ]
    }
   ],
   "source": [
    "print(data_sideways.c.next_sibling)"
   ]
  },
  {
   "cell_type": "code",
   "execution_count": 42,
   "metadata": {},
   "outputs": [
    {
     "name": "stdout",
     "output_type": "stream",
     "text": [
      "text1\n",
      "None\n"
     ]
    }
   ],
   "source": [
    "# The strings “text1” and “text2” are not siblings, because they don’t have the same parent:\n",
    "print(data_sideways.b.string)\n",
    "# 'text1'\n",
    "\n",
    "print(data_sideways.b.string.next_sibling)\n",
    "# None"
   ]
  },
  {
   "cell_type": "code",
   "execution_count": 43,
   "metadata": {},
   "outputs": [
    {
     "data": {
      "text/plain": [
       "<html><head><title>The Dormouse's story</title></head>\n",
       "<body>\n",
       "<p class=\"title\"><b>The Dormouse's story</b></p>\n",
       "<p class=\"story\">Once upon a time there were three little sisters; and their names were\n",
       "<a class=\"sister\" href=\"http://example.com/elsie\" id=\"link1\">Elsie</a>,\n",
       "<a class=\"sister\" href=\"http://example.com/lacie\" id=\"link2\">Lacie</a> and\n",
       "<a class=\"sister\" href=\"http://example.com/tillie\" id=\"link3\">Tillie</a>;\n",
       "and they lived at the bottom of a well.</p>\n",
       "<p class=\"story\">...</p>\n",
       "</body></html>"
      ]
     },
     "execution_count": 43,
     "metadata": {},
     "output_type": "execute_result"
    }
   ],
   "source": [
    "#In real documents, the .next_sibling or .previous_sibling of a tag will usually be a string containing whitespace. Going back to the “three sisters” document:\n",
    "\n",
    "# <a href=\"http://example.com/elsie\" class=\"sister\" id=\"link1\">Elsie</a>\n",
    "# <a href=\"http://example.com/lacie\" class=\"sister\" id=\"link2\">Lacie</a>\n",
    "# <a href=\"http://example.com/tillie\" class=\"sister\" id=\"link3\">Tillie</a>\n",
    "# You might think that the .next_sibling of the first <a> tag would be the second <a> tag.\n",
    "#But actually, it’s a string: the comma and newline that separate the first <a> tag from the second:\n",
    "\n",
    "data_new"
   ]
  },
  {
   "cell_type": "code",
   "execution_count": 44,
   "metadata": {},
   "outputs": [
    {
     "data": {
      "text/plain": [
       "',\\n'"
      ]
     },
     "execution_count": 44,
     "metadata": {},
     "output_type": "execute_result"
    }
   ],
   "source": [
    "link = data_new.a\n",
    "link.next_sibling"
   ]
  },
  {
   "cell_type": "code",
   "execution_count": 45,
   "metadata": {},
   "outputs": [
    {
     "data": {
      "text/plain": [
       "<a class=\"sister\" href=\"http://example.com/lacie\" id=\"link2\">Lacie</a>"
      ]
     },
     "execution_count": 45,
     "metadata": {},
     "output_type": "execute_result"
    }
   ],
   "source": [
    "# The second <a> tag is actually the .next_sibling of the comma can be accessed as:\n",
    "link.next_sibling.next_sibling"
   ]
  },
  {
   "cell_type": "markdown",
   "metadata": {},
   "source": [
    "## .next_siblings and .previous_siblings¶"
   ]
  },
  {
   "cell_type": "code",
   "execution_count": 46,
   "metadata": {},
   "outputs": [
    {
     "name": "stdout",
     "output_type": "stream",
     "text": [
      "',\\n'\n",
      "<a class=\"sister\" href=\"http://example.com/lacie\" id=\"link2\">Lacie</a>\n",
      "' and\\n'\n",
      "<a class=\"sister\" href=\"http://example.com/tillie\" id=\"link3\">Tillie</a>\n",
      "';\\nand they lived at the bottom of a well.'\n",
      "\n",
      "\n",
      "\n",
      "' and\\n'\n",
      "<a class=\"sister\" href=\"http://example.com/lacie\" id=\"link2\">Lacie</a>\n",
      "',\\n'\n",
      "<a class=\"sister\" href=\"http://example.com/elsie\" id=\"link1\">Elsie</a>\n",
      "'Once upon a time there were three little sisters; and their names were\\n'\n"
     ]
    }
   ],
   "source": [
    "for sibling in data_new.a.next_siblings:\n",
    "    print(repr(sibling))\n",
    "# ',\\n'\n",
    "# <a class=\"sister\" href=\"http://example.com/lacie\" id=\"link2\">Lacie</a>\n",
    "# ' and\\n'\n",
    "# <a class=\"sister\" href=\"http://example.com/tillie\" id=\"link3\">Tillie</a>\n",
    "# '; and they lived at the bottom of a well.'\n",
    "for i in range(3):print()\n",
    "\n",
    "for sibling in data_new.find(id=\"link3\").previous_siblings:\n",
    "    print(repr(sibling))\n",
    "# ' and\\n'\n",
    "# <a class=\"sister\" href=\"http://example.com/lacie\" id=\"link2\">Lacie</a>\n",
    "# ',\\n'\n",
    "# <a class=\"sister\" href=\"http://example.com/elsie\" id=\"link1\">Elsie</a>\n",
    "# 'Once upon a time there were three little sisters; and their names were\\n'"
   ]
  },
  {
   "cell_type": "markdown",
   "metadata": {},
   "source": [
    "# 5. Going back and forth"
   ]
  },
  {
   "cell_type": "code",
   "execution_count": 47,
   "metadata": {},
   "outputs": [],
   "source": [
    "#  Take a look at the beginning of the “three sisters” document:\n",
    "\n",
    "# <html><head><title>The Dormouse's story</title></head>\n",
    "# <p class=\"title\"><b>The Dormouse's story</b></p>\n",
    "# An HTML parser takes this string of characters and turns it into a series of events: “open an <html> tag”, \n",
    "#“open a <head> tag”, “open a <title> tag”, “add a string”, “close the <title> tag”, “open a <p> tag”, and so on. \n",
    "# Beautiful Soup offers tools for reconstructing the initial parse of the document.\n",
    "\n",
    "# .next_element and .previous_element\n",
    "# The .next_element attribute of a string or tag points to whatever was parsed immediately afterwards. \n",
    "# It might be the same as .next_sibling, but it’s usually drastically different.\n",
    "\n",
    "# Here’s the final <a> tag in the “three sisters” document. \n",
    "#Its .next_sibling is a string: the conclusion of the sentence that was interrupted by the start of the <a> tag.:\n",
    "\n"
   ]
  },
  {
   "cell_type": "code",
   "execution_count": 48,
   "metadata": {},
   "outputs": [
    {
     "name": "stdout",
     "output_type": "stream",
     "text": [
      "<a class=\"sister\" href=\"http://example.com/tillie\" id=\"link3\">Tillie</a>\n",
      ";\n",
      "and they lived at the bottom of a well.\n"
     ]
    }
   ],
   "source": [
    "last_a_tag = data_new.find(\"a\", id=\"link3\")\n",
    "print(last_a_tag)\n",
    "# <a class=\"sister\" href=\"http://example.com/tillie\" id=\"link3\">Tillie</a>\n",
    "\n",
    "print(last_a_tag.next_sibling)\n",
    "# ';\\nand they lived at the bottom of a well.'"
   ]
  },
  {
   "cell_type": "code",
   "execution_count": 49,
   "metadata": {},
   "outputs": [
    {
     "data": {
      "text/plain": [
       "'Tillie'"
      ]
     },
     "execution_count": 49,
     "metadata": {},
     "output_type": "execute_result"
    }
   ],
   "source": [
    "# But the .next_element of that <a> tag, # the thing that was parsed immediately after the <a> tag, \n",
    "#is not the rest of that sentence: it’s the word “Tillie”:\n",
    "last_a_tag.next_element\n",
    "# 'Tillie'"
   ]
  },
  {
   "cell_type": "code",
   "execution_count": 50,
   "metadata": {},
   "outputs": [
    {
     "name": "stdout",
     "output_type": "stream",
     "text": [
      " and\n",
      "\n",
      "<a class=\"sister\" href=\"http://example.com/tillie\" id=\"link3\">Tillie</a>\n"
     ]
    }
   ],
   "source": [
    "# That’s because in the original markup, the word “Tillie” appeared before that semicolon. \n",
    "#The parser encountered an <a> tag, then the word “Tillie”, then the closing </a> tag,\n",
    "# then the semicolon and rest of the sentence. The semicolon is on the same level as the <a> tag, \n",
    "# but the word “Tillie” was encountered first.\n",
    "\n",
    "# The .previous_element attribute is the exact opposite of .next_element. \n",
    "# It points to whatever element was parsed immediately before this one:\n",
    "print(last_a_tag.previous_element)\n",
    "# ' and\\n'\n",
    "print(last_a_tag.previous_element.next_element)\n",
    "# <a class=\"sister\" href=\"http://example.com/tillie\" id=\"link3\">Tillie</a>\n"
   ]
  },
  {
   "cell_type": "markdown",
   "metadata": {},
   "source": [
    "# .next_elements and .previous_elements\n"
   ]
  },
  {
   "cell_type": "code",
   "execution_count": 51,
   "metadata": {},
   "outputs": [],
   "source": [
    "# You should get the idea by now. You can use these iterators to move forward or backward in the document \n",
    "#as it was parsed:"
   ]
  },
  {
   "cell_type": "code",
   "execution_count": 52,
   "metadata": {
    "scrolled": false
   },
   "outputs": [
    {
     "name": "stdout",
     "output_type": "stream",
     "text": [
      "'Tillie'\n",
      "';\\nand they lived at the bottom of a well.'\n",
      "'\\n'\n",
      "<p class=\"story\">...</p>\n",
      "'...'\n",
      "'\\n'\n"
     ]
    }
   ],
   "source": [
    "for element in last_a_tag.next_elements:\n",
    "    print(repr(element))"
   ]
  },
  {
   "cell_type": "markdown",
   "metadata": {},
   "source": [
    "##  Task 1: ## HTML Code is provided in variable html\n",
    "    Descendants and children\n",
    "    Send Feedback\n",
    "    You are given the HTML content of a webpage, your task is to :\n",
    "    Print the difference between the number of descendants and the number of children of the html tag\n",
    "    NOTE : You are provided the HTML content inside variable html\n",
    "    Output Format :\n",
    "    difference\n",
    "    \n",
    "    \n",
    "    \n",
    "    \n",
    "     '<!DOCTYPE html><html><head><title>Navigate Parse Tree</title></head>\\\n",
    "        <body><h1>This is your Assignment</h1><a href = \"https://www.google.com\">This is a link that will take you to Google</a>\\\n",
    "        <ul><li><p> This question is given to test your knowledge of <b>Web Scraping</b></p>\\\n",
    "        <p>Web scraping is a term used to describe the use of a program or algorithm to extract and process large amounts of data from the web.</p></li>\\\n",
    "        <li id = \"li2\">This is an li tag given to you for scraping</li>\\\n",
    "        <li>This li tag gives you the various ways to get data from a website\\\n",
    "        <ol><li class = \"list_or\">Using API of the website</li><li>Scrape data using BeautifulSoup</li><li>Scrape data using Selenium</li>\\\n",
    "        <li>Scrape data using Scrapy</li></ol></li>\\\n",
    "        <li class = \"list_or\"><a href=\"https://www.crummy.com/software/BeautifulSoup/bs4/doc/\">\\\n",
    "        Clicking on this takes you to the documentation of BeautifulSoup</a>\\\n",
    "        <a href=\"https://selenium-python.readthedocs.io/\" id=\"anchor\">Clicking on this takes you to the documentation of Selenium</a>\\\n",
    "        </li></ul></body></html>'\n"
   ]
  },
  {
   "cell_type": "code",
   "execution_count": 53,
   "metadata": {},
   "outputs": [],
   "source": [
    "a ='<!DOCTYPE html><html><head><title>Navigate Parse Tree</title></head>\\\n",
    "    <body><h1>This is your Assignment</h1><a href = \"https://www.google.com\">This is a link that will take you to Google</a>\\\n",
    "    <ul><li><p> This question is given to test your knowledge of <b>Web Scraping</b></p>\\\n",
    "    <p>Web scraping is a term used to describe the use of a program or algorithm to extract and process large amounts of data from the web.</p></li>\\\n",
    "    <li id = \"li2\">This is an li tag given to you for scraping</li>\\\n",
    "    <li>This li tag gives you the various ways to get data from a website\\\n",
    "    <ol><li class = \"list_or\">Using API of the website</li><li>Scrape data using BeautifulSoup</li><li>Scrape data using Selenium</li>\\\n",
    "    <li>Scrape data using Scrapy</li></ol></li>\\\n",
    "    <li class = \"list_or\"><a href=\"https://www.crummy.com/software/BeautifulSoup/bs4/doc/\">\\\n",
    "    Clicking on this takes you to the documentation of BeautifulSoup</a>\\\n",
    "    <a href=\"https://selenium-python.readthedocs.io/\" id=\"anchor\">Clicking on this takes you to the documentation of Selenium</a>\\\n",
    "    </li></ul></body></html>'"
   ]
  },
  {
   "cell_type": "code",
   "execution_count": 81,
   "metadata": {},
   "outputs": [
    {
     "data": {
      "text/plain": [
       "<!DOCTYPE html>\n",
       "<html><head><title>Navigate Parse Tree</title></head> <body><h1>This is your Assignment</h1><a href=\"https://www.google.com\">This is a link that will take you to Google</a> <ul><li><p> This question is given to test your knowledge of <b>Web Scraping</b></p> <p>Web scraping is a term used to describe the use of a program or algorithm to extract and process large amounts of data from the web.</p></li> <li id=\"li2\">This is an li tag given to you for scraping</li> <li>This li tag gives you the various ways to get data from a website    <ol><li class=\"list_or\">Using API of the website</li><li>Scrape data using BeautifulSoup</li><li>Scrape data using Selenium</li> <li>Scrape data using Scrapy</li></ol></li> <li class=\"list_or\"><a href=\"https://www.crummy.com/software/BeautifulSoup/bs4/doc/\">    Clicking on this takes you to the documentation of BeautifulSoup</a> <a href=\"https://selenium-python.readthedocs.io/\" id=\"anchor\">Clicking on this takes you to the documentation of Selenium</a> </li></ul></body></html>"
      ]
     },
     "execution_count": 81,
     "metadata": {},
     "output_type": "execute_result"
    }
   ],
   "source": [
    "new = BeautifulSoup(a, \"html.parser\")\n",
    "new\n"
   ]
  },
  {
   "cell_type": "code",
   "execution_count": 60,
   "metadata": {},
   "outputs": [
    {
     "data": {
      "text/plain": [
       "40"
      ]
     },
     "execution_count": 60,
     "metadata": {},
     "output_type": "execute_result"
    }
   ],
   "source": [
    "len(list(new.html.descendants)) - len(list(new.html.children))"
   ]
  },
  {
   "cell_type": "code",
   "execution_count": 59,
   "metadata": {},
   "outputs": [
    {
     "data": {
      "text/plain": [
       "<list_iterator at 0x7fc607dd9370>"
      ]
     },
     "execution_count": 59,
     "metadata": {},
     "output_type": "execute_result"
    }
   ],
   "source": [
    "new.html.children"
   ]
  },
  {
   "cell_type": "code",
   "execution_count": 66,
   "metadata": {},
   "outputs": [
    {
     "data": {
      "text/plain": [
       "[<head><title>Navigate Parse Tree</title></head>,\n",
       " ' ',\n",
       " <body><h1>This is your Assignment</h1><a href=\"https://www.google.com\">This is a link that will take you to Google</a> <ul><li><p> This question is given to test your knowledge of <b>Web Scraping</b></p> <p>Web scraping is a term used to describe the use of a program or algorithm to extract and process large amounts of data from the web.</p></li> <li id=\"li2\">This is an li tag given to you for scraping</li> <li>This li tag gives you the various ways to get data from a website    <ol><li class=\"list_or\">Using API of the website</li><li>Scrape data using BeautifulSoup</li><li>Scrape data using Selenium</li> <li>Scrape data using Scrapy</li></ol></li> <li class=\"list_or\"><a href=\"https://www.crummy.com/software/BeautifulSoup/bs4/doc/\">    Clicking on this takes you to the documentation of BeautifulSoup</a> <a href=\"https://selenium-python.readthedocs.io/\" id=\"anchor\">Clicking on this takes you to the documentation of Selenium</a> </li></ul></body>]"
      ]
     },
     "execution_count": 66,
     "metadata": {},
     "output_type": "execute_result"
    }
   ],
   "source": [
    "list(new.html.children)"
   ]
  },
  {
   "cell_type": "code",
   "execution_count": 82,
   "metadata": {},
   "outputs": [
    {
     "name": "stdout",
     "output_type": "stream",
     "text": [
      "<!DOCTYPE html>\n",
      "<html>\n",
      " <head>\n",
      "  <title>\n",
      "   Navigate Parse Tree\n",
      "  </title>\n",
      " </head>\n",
      " <body>\n",
      "  <h1>\n",
      "   This is your Assignment\n",
      "  </h1>\n",
      "  <a href=\"https://www.google.com\">\n",
      "   This is a link that will take you to Google\n",
      "  </a>\n",
      "  <ul>\n",
      "   <li>\n",
      "    <p>\n",
      "     This question is given to test your knowledge of\n",
      "     <b>\n",
      "      Web Scraping\n",
      "     </b>\n",
      "    </p>\n",
      "    <p>\n",
      "     Web scraping is a term used to describe the use of a program or algorithm to extract and process large amounts of data from the web.\n",
      "    </p>\n",
      "   </li>\n",
      "   <li id=\"li2\">\n",
      "    This is an li tag given to you for scraping\n",
      "   </li>\n",
      "   <li>\n",
      "    This li tag gives you the various ways to get data from a website\n",
      "    <ol>\n",
      "     <li class=\"list_or\">\n",
      "      Using API of the website\n",
      "     </li>\n",
      "     <li>\n",
      "      Scrape data using BeautifulSoup\n",
      "     </li>\n",
      "     <li>\n",
      "      Scrape data using Selenium\n",
      "     </li>\n",
      "     <li>\n",
      "      Scrape data using Scrapy\n",
      "     </li>\n",
      "    </ol>\n",
      "   </li>\n",
      "   <li class=\"list_or\">\n",
      "    <a href=\"https://www.crummy.com/software/BeautifulSoup/bs4/doc/\">\n",
      "     Clicking on this takes you to the documentation of BeautifulSoup\n",
      "    </a>\n",
      "    <a href=\"https://selenium-python.readthedocs.io/\" id=\"anchor\">\n",
      "     Clicking on this takes you to the documentation of Selenium\n",
      "    </a>\n",
      "   </li>\n",
      "  </ul>\n",
      " </body>\n",
      "</html>\n"
     ]
    }
   ],
   "source": [
    "print(new.prettify())"
   ]
  },
  {
   "cell_type": "code",
   "execution_count": 88,
   "metadata": {},
   "outputs": [
    {
     "name": "stdout",
     "output_type": "stream",
     "text": [
      "li\n",
      "a\n"
     ]
    }
   ],
   "source": [
    "print(new.find(id=\"li2\").name)\n",
    "print(new.find(id=\"anchor\").name)\n"
   ]
  },
  {
   "cell_type": "markdown",
   "metadata": {},
   "source": [
    "# task4 : You are given the HTML content of a webpage, your task is to :\n",
    "    Print the string which is present inside the isecond <a> tag using BeautifulSoup's next_element property\n",
    "    Output Format :\n",
    "    string_next_element"
   ]
  },
  {
   "cell_type": "code",
   "execution_count": 90,
   "metadata": {},
   "outputs": [
    {
     "name": "stdout",
     "output_type": "stream",
     "text": [
      "    Clicking on this takes you to the documentation of BeautifulSoup\n"
     ]
    }
   ],
   "source": [
    "count = 0\n",
    "for i in new.find_all(\"a\"):\n",
    "    count +=1\n",
    "    if count ==2:\n",
    "        print(i.string)"
   ]
  }
 ],
 "metadata": {
  "kernelspec": {
   "display_name": "Python 3",
   "language": "python",
   "name": "python3"
  },
  "language_info": {
   "codemirror_mode": {
    "name": "ipython",
    "version": 3
   },
   "file_extension": ".py",
   "mimetype": "text/x-python",
   "name": "python",
   "nbconvert_exporter": "python",
   "pygments_lexer": "ipython3",
   "version": "3.8.3"
  }
 },
 "nbformat": 4,
 "nbformat_minor": 4
}
