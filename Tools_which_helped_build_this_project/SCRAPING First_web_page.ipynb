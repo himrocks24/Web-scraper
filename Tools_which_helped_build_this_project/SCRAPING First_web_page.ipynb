{
 "cells": [
  {
   "cell_type": "code",
   "execution_count": 2,
   "metadata": {},
   "outputs": [],
   "source": [
    "url = \"http://info.cern.ch/hypertext/WWW/TheProject.html\""
   ]
  },
  {
   "cell_type": "code",
   "execution_count": 1,
   "metadata": {},
   "outputs": [],
   "source": [
    "## step 1 : load the html\n",
    "import requests"
   ]
  },
  {
   "cell_type": "code",
   "execution_count": 3,
   "metadata": {},
   "outputs": [],
   "source": [
    "response = requests.get(url) ## this helps in sending get() requset to the url"
   ]
  },
  {
   "cell_type": "code",
   "execution_count": 6,
   "metadata": {},
   "outputs": [
    {
     "data": {
      "text/plain": [
       "<Response [200]>"
      ]
     },
     "execution_count": 6,
     "metadata": {},
     "output_type": "execute_result"
    }
   ],
   "source": [
    "response"
   ]
  },
  {
   "cell_type": "code",
   "execution_count": 8,
   "metadata": {},
   "outputs": [],
   "source": [
    "### if we get the answer as \"200\" => it means that get() request is successful\n",
    "### if we get the answer as \"404\" => it means that get() request is unsuccessful"
   ]
  },
  {
   "cell_type": "code",
   "execution_count": 9,
   "metadata": {},
   "outputs": [
    {
     "data": {
      "text/plain": [
       "200"
      ]
     },
     "execution_count": 9,
     "metadata": {},
     "output_type": "execute_result"
    }
   ],
   "source": [
    "response.status_code"
   ]
  },
  {
   "cell_type": "code",
   "execution_count": 11,
   "metadata": {},
   "outputs": [
    {
     "data": {
      "text/plain": [
       "'ISO-8859-1'"
      ]
     },
     "execution_count": 11,
     "metadata": {},
     "output_type": "execute_result"
    }
   ],
   "source": [
    "response.encoding  ## the response that we received has the \"ISO\" encoding"
   ]
  },
  {
   "cell_type": "code",
   "execution_count": 18,
   "metadata": {},
   "outputs": [
    {
     "data": {
      "text/plain": [
       "'http://info.cern.ch/hypertext/WWW/TheProject.html'"
      ]
     },
     "execution_count": 18,
     "metadata": {},
     "output_type": "execute_result"
    }
   ],
   "source": [
    "response.url  ## .url is used to see the link of the response"
   ]
  },
  {
   "cell_type": "code",
   "execution_count": 21,
   "metadata": {},
   "outputs": [
    {
     "name": "stdout",
     "output_type": "stream",
     "text": [
      "{'Date': 'Tue, 22 Jun 2021 08:48:18 GMT', 'Server': 'Apache', 'Last-Modified': 'Thu, 03 Dec 1992 08:37:20 GMT', 'ETag': '\"8a9-291e721905000\"', 'Accept-Ranges': 'bytes', 'Content-Length': '2217', 'Connection': 'close', 'Content-Type': 'text/html'}\n",
      "\n",
      "\n",
      "\n",
      "<class 'requests.structures.CaseInsensitiveDict'>\n"
     ]
    }
   ],
   "source": [
    "## to see the header we use .headers attribute\n",
    "print(response.headers)\n",
    "for i in range(3):print()\n",
    "## it returns a python dictionary\n",
    "print(type(response.headers))"
   ]
  },
  {
   "cell_type": "code",
   "execution_count": 22,
   "metadata": {},
   "outputs": [
    {
     "data": {
      "text/plain": [
       "'text/html'"
      ]
     },
     "execution_count": 22,
     "metadata": {},
     "output_type": "execute_result"
    }
   ],
   "source": [
    "## we got a confiramtion that content of out web-page is HTML-text\n",
    "response.headers[\"Content-Type\"]"
   ]
  },
  {
   "cell_type": "code",
   "execution_count": 13,
   "metadata": {},
   "outputs": [
    {
     "data": {
      "text/plain": [
       "'<HEADER>\\n<TITLE>The World Wide Web project</TITLE>\\n<NEXTID N=\"55\">\\n</HEADER>\\n<BODY>\\n<H1>World Wide Web</H1>The WorldWideWeb (W3) is a wide-area<A\\nNAME=0 HREF=\"WhatIs.html\">\\nhypermedia</A> information retrieval\\ninitiative aiming to give universal\\naccess to a large universe of documents.<P>\\nEverything there is online about\\nW3 is linked directly or indirectly\\nto this document, including an <A\\nNAME=24 HREF=\"Summary.html\">executive\\nsummary</A> of the project, <A\\nNAME=29 HREF=\"Administration/Mailing/Overview.html\">Mailing lists</A>\\n, <A\\nNAME=30 HREF=\"Policy.html\">Policy</A> , November\\'s  <A\\nNAME=34 HREF=\"News/9211.html\">W3  news</A> ,\\n<A\\nNAME=41 HREF=\"FAQ/List.html\">Frequently Asked Questions</A> .\\n<DL>\\n<DT><A\\nNAME=44 HREF=\"../DataSources/Top.html\">What\\'s out there?</A>\\n<DD> Pointers to the\\nworld\\'s online information,<A\\nNAME=45 HREF=\"../DataSources/bySubject/Overview.html\"> subjects</A>\\n, <A\\nNAME=z54 HREF=\"../DataSources/WWW/Servers.html\">W3 servers</A>, etc.\\n<DT><A\\nNAME=46 HREF=\"Help.html\">Help</A>\\n<DD> on the browser you are using\\n<DT><A\\nNAME=13 HREF=\"Status.html\">Software Products</A>\\n<DD> A list of W3 project\\ncomponents and their current state.\\n(e.g. <A\\nNAME=27 HREF=\"LineMode/Browser.html\">Line Mode</A> ,X11 <A\\nNAME=35 HREF=\"Status.html#35\">Viola</A> ,  <A\\nNAME=26 HREF=\"NeXT/WorldWideWeb.html\">NeXTStep</A>\\n, <A\\nNAME=25 HREF=\"Daemon/Overview.html\">Servers</A> , <A\\nNAME=51 HREF=\"Tools/Overview.html\">Tools</A> ,<A\\nNAME=53 HREF=\"MailRobot/Overview.html\"> Mail robot</A> ,<A\\nNAME=52 HREF=\"Status.html#57\">\\nLibrary</A> )\\n<DT><A\\nNAME=47 HREF=\"Technical.html\">Technical</A>\\n<DD> Details of protocols, formats,\\nprogram internals etc\\n<DT><A\\nNAME=40 HREF=\"Bibliography.html\">Bibliography</A>\\n<DD> Paper documentation\\non  W3 and references.\\n<DT><A\\nNAME=14 HREF=\"People.html\">People</A>\\n<DD> A list of some people involved\\nin the project.\\n<DT><A\\nNAME=15 HREF=\"History.html\">History</A>\\n<DD> A summary of the history\\nof the project.\\n<DT><A\\nNAME=37 HREF=\"Helping.html\">How can I help</A> ?\\n<DD> If you would like\\nto support the web..\\n<DT><A\\nNAME=48 HREF=\"../README.html\">Getting code</A>\\n<DD> Getting the code by<A\\nNAME=49 HREF=\"LineMode/Defaults/Distribution.html\">\\nanonymous FTP</A> , etc.</A>\\n</DL>\\n</BODY>\\n'"
      ]
     },
     "execution_count": 13,
     "metadata": {},
     "output_type": "execute_result"
    }
   ],
   "source": [
    "## to access the content of the website we use .text attribute\n",
    "html_code = response.text\n",
    "html_code"
   ]
  },
  {
   "cell_type": "code",
   "execution_count": 23,
   "metadata": {},
   "outputs": [
    {
     "data": {
      "text/plain": [
       "<header>\n",
       "<title>The World Wide Web project</title>\n",
       "<nextid n=\"55\"/>\n",
       "</header>\n",
       "<body>\n",
       "<h1>World Wide Web</h1>The WorldWideWeb (W3) is a wide-area<a href=\"WhatIs.html\" name=\"0\">\n",
       "hypermedia</a> information retrieval\n",
       "initiative aiming to give universal\n",
       "access to a large universe of documents.<p>\n",
       "Everything there is online about\n",
       "W3 is linked directly or indirectly\n",
       "to this document, including an <a href=\"Summary.html\" name=\"24\">executive\n",
       "summary</a> of the project, <a href=\"Administration/Mailing/Overview.html\" name=\"29\">Mailing lists</a>\n",
       ", <a href=\"Policy.html\" name=\"30\">Policy</a> , November's  <a href=\"News/9211.html\" name=\"34\">W3  news</a> ,\n",
       "<a href=\"FAQ/List.html\" name=\"41\">Frequently Asked Questions</a> .\n",
       "<dl>\n",
       "<dt><a href=\"../DataSources/Top.html\" name=\"44\">What's out there?</a>\n",
       "<dd> Pointers to the\n",
       "world's online information,<a href=\"../DataSources/bySubject/Overview.html\" name=\"45\"> subjects</a>\n",
       ", <a href=\"../DataSources/WWW/Servers.html\" name=\"z54\">W3 servers</a>, etc.\n",
       "<dt><a href=\"Help.html\" name=\"46\">Help</a>\n",
       "<dd> on the browser you are using\n",
       "<dt><a href=\"Status.html\" name=\"13\">Software Products</a>\n",
       "<dd> A list of W3 project\n",
       "components and their current state.\n",
       "(e.g. <a href=\"LineMode/Browser.html\" name=\"27\">Line Mode</a> ,X11 <a href=\"Status.html#35\" name=\"35\">Viola</a> ,  <a href=\"NeXT/WorldWideWeb.html\" name=\"26\">NeXTStep</a>\n",
       ", <a href=\"Daemon/Overview.html\" name=\"25\">Servers</a> , <a href=\"Tools/Overview.html\" name=\"51\">Tools</a> ,<a href=\"MailRobot/Overview.html\" name=\"53\"> Mail robot</a> ,<a href=\"Status.html#57\" name=\"52\">\n",
       "Library</a> )\n",
       "<dt><a href=\"Technical.html\" name=\"47\">Technical</a>\n",
       "<dd> Details of protocols, formats,\n",
       "program internals etc\n",
       "<dt><a href=\"Bibliography.html\" name=\"40\">Bibliography</a>\n",
       "<dd> Paper documentation\n",
       "on  W3 and references.\n",
       "<dt><a href=\"People.html\" name=\"14\">People</a>\n",
       "<dd> A list of some people involved\n",
       "in the project.\n",
       "<dt><a href=\"History.html\" name=\"15\">History</a>\n",
       "<dd> A summary of the history\n",
       "of the project.\n",
       "<dt><a href=\"Helping.html\" name=\"37\">How can I help</a> ?\n",
       "<dd> If you would like\n",
       "to support the web..\n",
       "<dt><a href=\"../README.html\" name=\"48\">Getting code</a>\n",
       "<dd> Getting the code by<a href=\"LineMode/Defaults/Distribution.html\" name=\"49\">\n",
       "anonymous FTP</a> , etc.</dd></dt></dd></dt></dd></dt></dd></dt></dd></dt></dd></dt></dd></dt></dd></dt></dd></dt></dl></p></body>\n",
       "\n"
      ]
     },
     "execution_count": 23,
     "metadata": {},
     "output_type": "execute_result"
    }
   ],
   "source": [
    "## to prettify it we need to use BeautifulSoup library\n",
    "from bs4 import BeautifulSoup\n",
    "data = BeautifulSoup(html_code,\"html.parser\")\n",
    "data"
   ]
  },
  {
   "cell_type": "code",
   "execution_count": 24,
   "metadata": {},
   "outputs": [
    {
     "name": "stdout",
     "output_type": "stream",
     "text": [
      "<header>\n",
      " <title>\n",
      "  The World Wide Web project\n",
      " </title>\n",
      " <nextid n=\"55\"/>\n",
      "</header>\n",
      "<body>\n",
      " <h1>\n",
      "  World Wide Web\n",
      " </h1>\n",
      " The WorldWideWeb (W3) is a wide-area\n",
      " <a href=\"WhatIs.html\" name=\"0\">\n",
      "  hypermedia\n",
      " </a>\n",
      " information retrieval\n",
      "initiative aiming to give universal\n",
      "access to a large universe of documents.\n",
      " <p>\n",
      "  Everything there is online about\n",
      "W3 is linked directly or indirectly\n",
      "to this document, including an\n",
      "  <a href=\"Summary.html\" name=\"24\">\n",
      "   executive\n",
      "summary\n",
      "  </a>\n",
      "  of the project,\n",
      "  <a href=\"Administration/Mailing/Overview.html\" name=\"29\">\n",
      "   Mailing lists\n",
      "  </a>\n",
      "  ,\n",
      "  <a href=\"Policy.html\" name=\"30\">\n",
      "   Policy\n",
      "  </a>\n",
      "  , November's\n",
      "  <a href=\"News/9211.html\" name=\"34\">\n",
      "   W3  news\n",
      "  </a>\n",
      "  ,\n",
      "  <a href=\"FAQ/List.html\" name=\"41\">\n",
      "   Frequently Asked Questions\n",
      "  </a>\n",
      "  .\n",
      "  <dl>\n",
      "   <dt>\n",
      "    <a href=\"../DataSources/Top.html\" name=\"44\">\n",
      "     What's out there?\n",
      "    </a>\n",
      "    <dd>\n",
      "     Pointers to the\n",
      "world's online information,\n",
      "     <a href=\"../DataSources/bySubject/Overview.html\" name=\"45\">\n",
      "      subjects\n",
      "     </a>\n",
      "     ,\n",
      "     <a href=\"../DataSources/WWW/Servers.html\" name=\"z54\">\n",
      "      W3 servers\n",
      "     </a>\n",
      "     , etc.\n",
      "     <dt>\n",
      "      <a href=\"Help.html\" name=\"46\">\n",
      "       Help\n",
      "      </a>\n",
      "      <dd>\n",
      "       on the browser you are using\n",
      "       <dt>\n",
      "        <a href=\"Status.html\" name=\"13\">\n",
      "         Software Products\n",
      "        </a>\n",
      "        <dd>\n",
      "         A list of W3 project\n",
      "components and their current state.\n",
      "(e.g.\n",
      "         <a href=\"LineMode/Browser.html\" name=\"27\">\n",
      "          Line Mode\n",
      "         </a>\n",
      "         ,X11\n",
      "         <a href=\"Status.html#35\" name=\"35\">\n",
      "          Viola\n",
      "         </a>\n",
      "         ,\n",
      "         <a href=\"NeXT/WorldWideWeb.html\" name=\"26\">\n",
      "          NeXTStep\n",
      "         </a>\n",
      "         ,\n",
      "         <a href=\"Daemon/Overview.html\" name=\"25\">\n",
      "          Servers\n",
      "         </a>\n",
      "         ,\n",
      "         <a href=\"Tools/Overview.html\" name=\"51\">\n",
      "          Tools\n",
      "         </a>\n",
      "         ,\n",
      "         <a href=\"MailRobot/Overview.html\" name=\"53\">\n",
      "          Mail robot\n",
      "         </a>\n",
      "         ,\n",
      "         <a href=\"Status.html#57\" name=\"52\">\n",
      "          Library\n",
      "         </a>\n",
      "         )\n",
      "         <dt>\n",
      "          <a href=\"Technical.html\" name=\"47\">\n",
      "           Technical\n",
      "          </a>\n",
      "          <dd>\n",
      "           Details of protocols, formats,\n",
      "program internals etc\n",
      "           <dt>\n",
      "            <a href=\"Bibliography.html\" name=\"40\">\n",
      "             Bibliography\n",
      "            </a>\n",
      "            <dd>\n",
      "             Paper documentation\n",
      "on  W3 and references.\n",
      "             <dt>\n",
      "              <a href=\"People.html\" name=\"14\">\n",
      "               People\n",
      "              </a>\n",
      "              <dd>\n",
      "               A list of some people involved\n",
      "in the project.\n",
      "               <dt>\n",
      "                <a href=\"History.html\" name=\"15\">\n",
      "                 History\n",
      "                </a>\n",
      "                <dd>\n",
      "                 A summary of the history\n",
      "of the project.\n",
      "                 <dt>\n",
      "                  <a href=\"Helping.html\" name=\"37\">\n",
      "                   How can I help\n",
      "                  </a>\n",
      "                  ?\n",
      "                  <dd>\n",
      "                   If you would like\n",
      "to support the web..\n",
      "                   <dt>\n",
      "                    <a href=\"../README.html\" name=\"48\">\n",
      "                     Getting code\n",
      "                    </a>\n",
      "                    <dd>\n",
      "                     Getting the code by\n",
      "                     <a href=\"LineMode/Defaults/Distribution.html\" name=\"49\">\n",
      "                      anonymous FTP\n",
      "                     </a>\n",
      "                     , etc.\n",
      "                    </dd>\n",
      "                   </dt>\n",
      "                  </dd>\n",
      "                 </dt>\n",
      "                </dd>\n",
      "               </dt>\n",
      "              </dd>\n",
      "             </dt>\n",
      "            </dd>\n",
      "           </dt>\n",
      "          </dd>\n",
      "         </dt>\n",
      "        </dd>\n",
      "       </dt>\n",
      "      </dd>\n",
      "     </dt>\n",
      "    </dd>\n",
      "   </dt>\n",
      "  </dl>\n",
      " </p>\n",
      "</body>\n",
      "\n"
     ]
    }
   ],
   "source": [
    "print(data.prettify())"
   ]
  },
  {
   "cell_type": "code",
   "execution_count": 26,
   "metadata": {},
   "outputs": [
    {
     "name": "stdout",
     "output_type": "stream",
     "text": [
      "The World Wide Web project\n"
     ]
    }
   ],
   "source": [
    "## Task 1: Print the Title of the web-page\n",
    "print(data.title.string)"
   ]
  },
  {
   "cell_type": "code",
   "execution_count": 28,
   "metadata": {},
   "outputs": [
    {
     "name": "stdout",
     "output_type": "stream",
     "text": [
      "World Wide Web\n"
     ]
    }
   ],
   "source": [
    "## Task 2: Print the heading of the web-page\n",
    "print(data.h1.string)"
   ]
  },
  {
   "cell_type": "code",
   "execution_count": 30,
   "metadata": {},
   "outputs": [
    {
     "name": "stdout",
     "output_type": "stream",
     "text": [
      "\n",
      "The World Wide Web project\n",
      "\n",
      "\n",
      "\n",
      "World Wide WebThe WorldWideWeb (W3) is a wide-area\n",
      "hypermedia information retrieval\n",
      "initiative aiming to give universal\n",
      "access to a large universe of documents.\n",
      "Everything there is online about\n",
      "W3 is linked directly or indirectly\n",
      "to this document, including an executive\n",
      "summary of the project, Mailing lists\n",
      ", Policy , November's  W3  news ,\n",
      "Frequently Asked Questions .\n",
      "\n",
      "What's out there?\n",
      " Pointers to the\n",
      "world's online information, subjects\n",
      ", W3 servers, etc.\n",
      "Help\n",
      " on the browser you are using\n",
      "Software Products\n",
      " A list of W3 project\n",
      "components and their current state.\n",
      "(e.g. Line Mode ,X11 Viola ,  NeXTStep\n",
      ", Servers , Tools , Mail robot ,\n",
      "Library )\n",
      "Technical\n",
      " Details of protocols, formats,\n",
      "program internals etc\n",
      "Bibliography\n",
      " Paper documentation\n",
      "on  W3 and references.\n",
      "People\n",
      " A list of some people involved\n",
      "in the project.\n",
      "History\n",
      " A summary of the history\n",
      "of the project.\n",
      "How can I help ?\n",
      " If you would like\n",
      "to support the web..\n",
      "Getting code\n",
      " Getting the code by\n",
      "anonymous FTP , etc.\n",
      "\n",
      "\n",
      "\n"
     ]
    }
   ],
   "source": [
    "## Task 3: Print all the text of the web-page\n",
    "print(data.get_text())"
   ]
  },
  {
   "cell_type": "code",
   "execution_count": 32,
   "metadata": {},
   "outputs": [
    {
     "data": {
      "text/plain": [
       "[<a href=\"WhatIs.html\" name=\"0\">\n",
       " hypermedia</a>,\n",
       " <a href=\"Summary.html\" name=\"24\">executive\n",
       " summary</a>,\n",
       " <a href=\"Administration/Mailing/Overview.html\" name=\"29\">Mailing lists</a>,\n",
       " <a href=\"Policy.html\" name=\"30\">Policy</a>,\n",
       " <a href=\"News/9211.html\" name=\"34\">W3  news</a>,\n",
       " <a href=\"FAQ/List.html\" name=\"41\">Frequently Asked Questions</a>,\n",
       " <a href=\"../DataSources/Top.html\" name=\"44\">What's out there?</a>,\n",
       " <a href=\"../DataSources/bySubject/Overview.html\" name=\"45\"> subjects</a>,\n",
       " <a href=\"../DataSources/WWW/Servers.html\" name=\"z54\">W3 servers</a>,\n",
       " <a href=\"Help.html\" name=\"46\">Help</a>,\n",
       " <a href=\"Status.html\" name=\"13\">Software Products</a>,\n",
       " <a href=\"LineMode/Browser.html\" name=\"27\">Line Mode</a>,\n",
       " <a href=\"Status.html#35\" name=\"35\">Viola</a>,\n",
       " <a href=\"NeXT/WorldWideWeb.html\" name=\"26\">NeXTStep</a>,\n",
       " <a href=\"Daemon/Overview.html\" name=\"25\">Servers</a>,\n",
       " <a href=\"Tools/Overview.html\" name=\"51\">Tools</a>,\n",
       " <a href=\"MailRobot/Overview.html\" name=\"53\"> Mail robot</a>,\n",
       " <a href=\"Status.html#57\" name=\"52\">\n",
       " Library</a>,\n",
       " <a href=\"Technical.html\" name=\"47\">Technical</a>,\n",
       " <a href=\"Bibliography.html\" name=\"40\">Bibliography</a>,\n",
       " <a href=\"People.html\" name=\"14\">People</a>,\n",
       " <a href=\"History.html\" name=\"15\">History</a>,\n",
       " <a href=\"Helping.html\" name=\"37\">How can I help</a>,\n",
       " <a href=\"../README.html\" name=\"48\">Getting code</a>,\n",
       " <a href=\"LineMode/Defaults/Distribution.html\" name=\"49\">\n",
       " anonymous FTP</a>]"
      ]
     },
     "execution_count": 32,
     "metadata": {},
     "output_type": "execute_result"
    }
   ],
   "source": [
    "## Task 4: Extract each and every hyperlink of the web page\n",
    "all_hyperlinks = data.find_all(\"a\")\n",
    "all_hyperlinks"
   ]
  },
  {
   "cell_type": "code",
   "execution_count": 44,
   "metadata": {},
   "outputs": [],
   "source": [
    "list_of_all_hyperlinks = []\n",
    "for i in all_hyperlinks:\n",
    "    list_of_all_hyperlinks.append(tuple([i.string,i.get(\"href\")]))"
   ]
  },
  {
   "cell_type": "code",
   "execution_count": 45,
   "metadata": {
    "scrolled": true
   },
   "outputs": [
    {
     "data": {
      "text/plain": [
       "[('\\nhypermedia', 'WhatIs.html'),\n",
       " ('executive\\nsummary', 'Summary.html'),\n",
       " ('Mailing lists', 'Administration/Mailing/Overview.html'),\n",
       " ('Policy', 'Policy.html'),\n",
       " ('W3  news', 'News/9211.html'),\n",
       " ('Frequently Asked Questions', 'FAQ/List.html'),\n",
       " (\"What's out there?\", '../DataSources/Top.html'),\n",
       " (' subjects', '../DataSources/bySubject/Overview.html'),\n",
       " ('W3 servers', '../DataSources/WWW/Servers.html'),\n",
       " ('Help', 'Help.html'),\n",
       " ('Software Products', 'Status.html'),\n",
       " ('Line Mode', 'LineMode/Browser.html'),\n",
       " ('Viola', 'Status.html#35'),\n",
       " ('NeXTStep', 'NeXT/WorldWideWeb.html'),\n",
       " ('Servers', 'Daemon/Overview.html'),\n",
       " ('Tools', 'Tools/Overview.html'),\n",
       " (' Mail robot', 'MailRobot/Overview.html'),\n",
       " ('\\nLibrary', 'Status.html#57'),\n",
       " ('Technical', 'Technical.html'),\n",
       " ('Bibliography', 'Bibliography.html'),\n",
       " ('People', 'People.html'),\n",
       " ('History', 'History.html'),\n",
       " ('How can I help', 'Helping.html'),\n",
       " ('Getting code', '../README.html'),\n",
       " ('\\nanonymous FTP', 'LineMode/Defaults/Distribution.html')]"
      ]
     },
     "execution_count": 45,
     "metadata": {},
     "output_type": "execute_result"
    }
   ],
   "source": [
    "list_of_all_hyperlinks"
   ]
  },
  {
   "cell_type": "code",
   "execution_count": 49,
   "metadata": {},
   "outputs": [
    {
     "data": {
      "text/plain": [
       "[<dt><a href=\"../DataSources/Top.html\" name=\"44\">What's out there?</a>\n",
       " <dd> Pointers to the\n",
       " world's online information,<a href=\"../DataSources/bySubject/Overview.html\" name=\"45\"> subjects</a>\n",
       " , <a href=\"../DataSources/WWW/Servers.html\" name=\"z54\">W3 servers</a>, etc.\n",
       " <dt><a href=\"Help.html\" name=\"46\">Help</a>\n",
       " <dd> on the browser you are using\n",
       " <dt><a href=\"Status.html\" name=\"13\">Software Products</a>\n",
       " <dd> A list of W3 project\n",
       " components and their current state.\n",
       " (e.g. <a href=\"LineMode/Browser.html\" name=\"27\">Line Mode</a> ,X11 <a href=\"Status.html#35\" name=\"35\">Viola</a> ,  <a href=\"NeXT/WorldWideWeb.html\" name=\"26\">NeXTStep</a>\n",
       " , <a href=\"Daemon/Overview.html\" name=\"25\">Servers</a> , <a href=\"Tools/Overview.html\" name=\"51\">Tools</a> ,<a href=\"MailRobot/Overview.html\" name=\"53\"> Mail robot</a> ,<a href=\"Status.html#57\" name=\"52\">\n",
       " Library</a> )\n",
       " <dt><a href=\"Technical.html\" name=\"47\">Technical</a>\n",
       " <dd> Details of protocols, formats,\n",
       " program internals etc\n",
       " <dt><a href=\"Bibliography.html\" name=\"40\">Bibliography</a>\n",
       " <dd> Paper documentation\n",
       " on  W3 and references.\n",
       " <dt><a href=\"People.html\" name=\"14\">People</a>\n",
       " <dd> A list of some people involved\n",
       " in the project.\n",
       " <dt><a href=\"History.html\" name=\"15\">History</a>\n",
       " <dd> A summary of the history\n",
       " of the project.\n",
       " <dt><a href=\"Helping.html\" name=\"37\">How can I help</a> ?\n",
       " <dd> If you would like\n",
       " to support the web..\n",
       " <dt><a href=\"../README.html\" name=\"48\">Getting code</a>\n",
       " <dd> Getting the code by<a href=\"LineMode/Defaults/Distribution.html\" name=\"49\">\n",
       " anonymous FTP</a> , etc.</dd></dt></dd></dt></dd></dt></dd></dt></dd></dt></dd></dt></dd></dt></dd></dt></dd></dt>,\n",
       " <dt><a href=\"Help.html\" name=\"46\">Help</a>\n",
       " <dd> on the browser you are using\n",
       " <dt><a href=\"Status.html\" name=\"13\">Software Products</a>\n",
       " <dd> A list of W3 project\n",
       " components and their current state.\n",
       " (e.g. <a href=\"LineMode/Browser.html\" name=\"27\">Line Mode</a> ,X11 <a href=\"Status.html#35\" name=\"35\">Viola</a> ,  <a href=\"NeXT/WorldWideWeb.html\" name=\"26\">NeXTStep</a>\n",
       " , <a href=\"Daemon/Overview.html\" name=\"25\">Servers</a> , <a href=\"Tools/Overview.html\" name=\"51\">Tools</a> ,<a href=\"MailRobot/Overview.html\" name=\"53\"> Mail robot</a> ,<a href=\"Status.html#57\" name=\"52\">\n",
       " Library</a> )\n",
       " <dt><a href=\"Technical.html\" name=\"47\">Technical</a>\n",
       " <dd> Details of protocols, formats,\n",
       " program internals etc\n",
       " <dt><a href=\"Bibliography.html\" name=\"40\">Bibliography</a>\n",
       " <dd> Paper documentation\n",
       " on  W3 and references.\n",
       " <dt><a href=\"People.html\" name=\"14\">People</a>\n",
       " <dd> A list of some people involved\n",
       " in the project.\n",
       " <dt><a href=\"History.html\" name=\"15\">History</a>\n",
       " <dd> A summary of the history\n",
       " of the project.\n",
       " <dt><a href=\"Helping.html\" name=\"37\">How can I help</a> ?\n",
       " <dd> If you would like\n",
       " to support the web..\n",
       " <dt><a href=\"../README.html\" name=\"48\">Getting code</a>\n",
       " <dd> Getting the code by<a href=\"LineMode/Defaults/Distribution.html\" name=\"49\">\n",
       " anonymous FTP</a> , etc.</dd></dt></dd></dt></dd></dt></dd></dt></dd></dt></dd></dt></dd></dt></dd></dt>,\n",
       " <dt><a href=\"Status.html\" name=\"13\">Software Products</a>\n",
       " <dd> A list of W3 project\n",
       " components and their current state.\n",
       " (e.g. <a href=\"LineMode/Browser.html\" name=\"27\">Line Mode</a> ,X11 <a href=\"Status.html#35\" name=\"35\">Viola</a> ,  <a href=\"NeXT/WorldWideWeb.html\" name=\"26\">NeXTStep</a>\n",
       " , <a href=\"Daemon/Overview.html\" name=\"25\">Servers</a> , <a href=\"Tools/Overview.html\" name=\"51\">Tools</a> ,<a href=\"MailRobot/Overview.html\" name=\"53\"> Mail robot</a> ,<a href=\"Status.html#57\" name=\"52\">\n",
       " Library</a> )\n",
       " <dt><a href=\"Technical.html\" name=\"47\">Technical</a>\n",
       " <dd> Details of protocols, formats,\n",
       " program internals etc\n",
       " <dt><a href=\"Bibliography.html\" name=\"40\">Bibliography</a>\n",
       " <dd> Paper documentation\n",
       " on  W3 and references.\n",
       " <dt><a href=\"People.html\" name=\"14\">People</a>\n",
       " <dd> A list of some people involved\n",
       " in the project.\n",
       " <dt><a href=\"History.html\" name=\"15\">History</a>\n",
       " <dd> A summary of the history\n",
       " of the project.\n",
       " <dt><a href=\"Helping.html\" name=\"37\">How can I help</a> ?\n",
       " <dd> If you would like\n",
       " to support the web..\n",
       " <dt><a href=\"../README.html\" name=\"48\">Getting code</a>\n",
       " <dd> Getting the code by<a href=\"LineMode/Defaults/Distribution.html\" name=\"49\">\n",
       " anonymous FTP</a> , etc.</dd></dt></dd></dt></dd></dt></dd></dt></dd></dt></dd></dt></dd></dt>,\n",
       " <dt><a href=\"Technical.html\" name=\"47\">Technical</a>\n",
       " <dd> Details of protocols, formats,\n",
       " program internals etc\n",
       " <dt><a href=\"Bibliography.html\" name=\"40\">Bibliography</a>\n",
       " <dd> Paper documentation\n",
       " on  W3 and references.\n",
       " <dt><a href=\"People.html\" name=\"14\">People</a>\n",
       " <dd> A list of some people involved\n",
       " in the project.\n",
       " <dt><a href=\"History.html\" name=\"15\">History</a>\n",
       " <dd> A summary of the history\n",
       " of the project.\n",
       " <dt><a href=\"Helping.html\" name=\"37\">How can I help</a> ?\n",
       " <dd> If you would like\n",
       " to support the web..\n",
       " <dt><a href=\"../README.html\" name=\"48\">Getting code</a>\n",
       " <dd> Getting the code by<a href=\"LineMode/Defaults/Distribution.html\" name=\"49\">\n",
       " anonymous FTP</a> , etc.</dd></dt></dd></dt></dd></dt></dd></dt></dd></dt></dd></dt>,\n",
       " <dt><a href=\"Bibliography.html\" name=\"40\">Bibliography</a>\n",
       " <dd> Paper documentation\n",
       " on  W3 and references.\n",
       " <dt><a href=\"People.html\" name=\"14\">People</a>\n",
       " <dd> A list of some people involved\n",
       " in the project.\n",
       " <dt><a href=\"History.html\" name=\"15\">History</a>\n",
       " <dd> A summary of the history\n",
       " of the project.\n",
       " <dt><a href=\"Helping.html\" name=\"37\">How can I help</a> ?\n",
       " <dd> If you would like\n",
       " to support the web..\n",
       " <dt><a href=\"../README.html\" name=\"48\">Getting code</a>\n",
       " <dd> Getting the code by<a href=\"LineMode/Defaults/Distribution.html\" name=\"49\">\n",
       " anonymous FTP</a> , etc.</dd></dt></dd></dt></dd></dt></dd></dt></dd></dt>,\n",
       " <dt><a href=\"People.html\" name=\"14\">People</a>\n",
       " <dd> A list of some people involved\n",
       " in the project.\n",
       " <dt><a href=\"History.html\" name=\"15\">History</a>\n",
       " <dd> A summary of the history\n",
       " of the project.\n",
       " <dt><a href=\"Helping.html\" name=\"37\">How can I help</a> ?\n",
       " <dd> If you would like\n",
       " to support the web..\n",
       " <dt><a href=\"../README.html\" name=\"48\">Getting code</a>\n",
       " <dd> Getting the code by<a href=\"LineMode/Defaults/Distribution.html\" name=\"49\">\n",
       " anonymous FTP</a> , etc.</dd></dt></dd></dt></dd></dt></dd></dt>,\n",
       " <dt><a href=\"History.html\" name=\"15\">History</a>\n",
       " <dd> A summary of the history\n",
       " of the project.\n",
       " <dt><a href=\"Helping.html\" name=\"37\">How can I help</a> ?\n",
       " <dd> If you would like\n",
       " to support the web..\n",
       " <dt><a href=\"../README.html\" name=\"48\">Getting code</a>\n",
       " <dd> Getting the code by<a href=\"LineMode/Defaults/Distribution.html\" name=\"49\">\n",
       " anonymous FTP</a> , etc.</dd></dt></dd></dt></dd></dt>,\n",
       " <dt><a href=\"Helping.html\" name=\"37\">How can I help</a> ?\n",
       " <dd> If you would like\n",
       " to support the web..\n",
       " <dt><a href=\"../README.html\" name=\"48\">Getting code</a>\n",
       " <dd> Getting the code by<a href=\"LineMode/Defaults/Distribution.html\" name=\"49\">\n",
       " anonymous FTP</a> , etc.</dd></dt></dd></dt>,\n",
       " <dt><a href=\"../README.html\" name=\"48\">Getting code</a>\n",
       " <dd> Getting the code by<a href=\"LineMode/Defaults/Distribution.html\" name=\"49\">\n",
       " anonymous FTP</a> , etc.</dd></dt>]"
      ]
     },
     "execution_count": 49,
     "metadata": {},
     "output_type": "execute_result"
    }
   ],
   "source": [
    "## to get all the 9 links in dt tag\n",
    "li = data.dl.find_all(\"dt\")\n",
    "li"
   ]
  },
  {
   "cell_type": "code",
   "execution_count": 50,
   "metadata": {},
   "outputs": [
    {
     "data": {
      "text/plain": [
       "9"
      ]
     },
     "execution_count": 50,
     "metadata": {},
     "output_type": "execute_result"
    }
   ],
   "source": [
    "len(li)"
   ]
  },
  {
   "cell_type": "code",
   "execution_count": 57,
   "metadata": {},
   "outputs": [
    {
     "name": "stdout",
     "output_type": "stream",
     "text": [
      "What's out there? ../DataSources/Top.html\n",
      "Help Help.html\n",
      "Software Products Status.html\n",
      "Technical Technical.html\n",
      "Bibliography Bibliography.html\n",
      "People People.html\n",
      "History History.html\n",
      "How can I help Helping.html\n",
      "Getting code ../README.html\n"
     ]
    }
   ],
   "source": [
    "for u in li:\n",
    "    print(u.a.string,u.a.get(\"href\"))"
   ]
  }
 ],
 "metadata": {
  "kernelspec": {
   "display_name": "Python 3",
   "language": "python",
   "name": "python3"
  },
  "language_info": {
   "codemirror_mode": {
    "name": "ipython",
    "version": 3
   },
   "file_extension": ".py",
   "mimetype": "text/x-python",
   "name": "python",
   "nbconvert_exporter": "python",
   "pygments_lexer": "ipython3",
   "version": "3.8.3"
  }
 },
 "nbformat": 4,
 "nbformat_minor": 4
}
